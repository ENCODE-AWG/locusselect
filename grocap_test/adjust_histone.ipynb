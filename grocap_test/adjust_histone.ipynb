{
 "cells": [
  {
   "cell_type": "code",
   "execution_count": 1,
   "metadata": {},
   "outputs": [],
   "source": [
    "import numpy as np\n",
    "from sklearn import manifold\n",
    "from apricot import FacilityLocationSelection\n",
    "from apricot import FeatureBasedSelection\n",
    "import matplotlib\n",
    "from matplotlib import pyplot as plt\n",
    "from mpl_toolkits.mplot3d import Axes3D\n",
    "from matplotlib import cm\n",
    "import umap\n",
    "from sklearn.manifold import TSNE\n",
    "import pandas as pd\n",
    "import os"
   ]
  },
  {
   "cell_type": "code",
   "execution_count": 2,
   "metadata": {},
   "outputs": [],
   "source": [
    "def getChrLen ( chr = 'chr1', assembly = 'hg19' ):\n",
    "    chrsizes = np.loadtxt('/data/locusselect/' + assembly + '.chromsizes.txt',dtype={'names': ('chr','len'),'formats':('S6','i4')} )\n",
    "    #print (chrsizes)\n",
    "    for i in range(len(chrsizes)):\n",
    "        if ( chrsizes[i][0].decode() == chr ):\n",
    "            return (chrsizes[i][1] )\n",
    "        \n",
    "def generateWindows (chrs,res) :\n",
    "        for chr in chrs:\n",
    "                chrLen = getChrLen(chr)\n",
    "                L = int(np.ceil(float(chrLen) / res ))\n",
    "                starts = np.arange(0,L*res,res)\n",
    "                ends = np.arange(res,(L+1)*res,res);    ends[-1] = chrLen\n",
    "                chrNames = np.repeat(np.array([chr]),L)\n",
    "\n",
    "        table = np.zeros(int(L), dtype={'names':('chr', 'start', 'end'),'formats':('S5', 'i4', 'i4')})\n",
    "        table['chr'] = chrNames; table['start'] = starts+1; table['end'] = ends;\n",
    "        return(table)\n",
    "\n",
    "def averageMatrix(m, startRes=25, endRes=1000) :\n",
    "        if endRes % startRes != 0 :\n",
    "                print (\"resolutions problematic, find a divisible one\")\n",
    "                return -1\n",
    "        k = endRes / startRes\n",
    "        (y,x) = np.shape(m)\n",
    "        \n",
    "        sliceSeq = np.arange(0,x,k)\n",
    "        \n",
    "        averagedM = np.zeros((y,int(np.ceil( x/float(k)))) )\n",
    "        \n",
    "        for i in range(len(sliceSeq)-1) :\n",
    "                averagedM[:,i] = np.average(m[:,int(sliceSeq[i]):int(sliceSeq[i+1])],axis=1)\n",
    "\n",
    "        averagedM[:,-1] = np.average(m[:,int(sliceSeq[-1]):x],axis=1)\n",
    "\n",
    "        return (averagedM)\n",
    "\n",
    "def chooseResolution (p, resolution='all') :\n",
    "    if resolution == 'all' :\n",
    "        p = p\n",
    "    if resolution == 'high' :\n",
    "        p = p[:,0:25]\n",
    "    if resolution == 'mid' :\n",
    "        p = p[:,25:65]\n",
    "    if resolution == 'highmid' :\n",
    "        p = p[:,0:65]\n",
    "    if resolution == 'low' :\n",
    "        p = p[:,65:110]\n",
    "    return p\n",
    "    \n",
    "def umap_transform(peak_data, n_components=3, random_state=25, metric = 'correlation',n_neighbors=15,min_dist=0.1):\n",
    "    umap_obj = umap.UMAP(n_components=n_components, random_state=random_state,\n",
    "        min_dist=min_dist,metric=metric,n_neighbors=n_neighbors)\n",
    "    try:\n",
    "        umap_res = umap_obj.fit_transform(peak_data.toarray())\n",
    "    except:\n",
    "        umap_res = umap_obj.fit_transform(peak_data)\n",
    "    return umap_res\n",
    "    \n",
    "def intersectBeds ( bed1, bed2, pickLargestOverlap = True ) :\n",
    "    chrs1 = np.unique(bed1['f0']);  chrs2 = np.unique(bed2['f0'])\n",
    "    allchrs = np.intersect1d(chrs1,chrs2)\n",
    "    overlapInd1 = []; overlapInd2 = []; overlapLen = []\n",
    "    for chr in allchrs :\n",
    "        Ind1 = np.where(bed1['f0']==chr)[0];    Ind2 = np.where(bed2['f0']==chr)[0]\n",
    "        midPoint1 = ( bed1['f2'][Ind1] + bed1['f1'][Ind1] ) / 2\n",
    "        midPoint2 = ( bed2['f2'][Ind2] + bed2['f1'][Ind2] ) / 2\n",
    "        int1 = bed1['f2'][Ind1] - bed1['f1'][Ind1] + 1\n",
    "        int2 = bed2['f2'][Ind2] - bed2['f1'][Ind2] + 1\n",
    "        maxInt = 2 * np.max(np.append(int1,int2))\n",
    "        for I in range(len(Ind1)) :\n",
    "            dist = np.abs( midPoint1[I] - midPoint2 )\n",
    "            closeInd = Ind2[ np.where( dist < maxInt )[0] ]\n",
    "            if len(closeInd) > 0 :\n",
    "                for I2 in closeInd :\n",
    "                    maxStart = max(bed1[Ind1[I]][1], bed2[I2][1])\n",
    "                    minEnd = min(bed1[Ind1[I]][2], bed2[I2][2])\n",
    "                    if maxStart < minEnd:\n",
    "                        overlapInd1.append(Ind1[I])\n",
    "                        overlapInd2.append(I2)\n",
    "                        overlapLen.append(minEnd-maxStart)\n",
    "                        \n",
    "    overlapInd1 = np.array(overlapInd1); overlapInd2 = np.array(overlapInd2); overlapLen = np.array(overlapLen)\n",
    "    \n",
    "    uniqueOverlapInd1 = []; uniqueOverlapInd2 = []; uniqueOverlapLen = []\n",
    "    if pickLargestOverlap == True :\n",
    "        uniqueOI1 = np.unique(overlapInd1)\n",
    "        for uI in uniqueOI1 :\n",
    "            Ind = np.where(overlapInd1==uI)[0]\n",
    "            Ord = np.argsort(overlapLen[Ind])\n",
    "            uniqueOverlapInd1.append(uI); uniqueOverlapInd2.append(overlapInd2[Ind[Ord[-1]]]);\n",
    "            uniqueOverlapLen.append(overlapLen[Ind[Ord[-1]]])\n",
    "    \n",
    "    uniqueOverlapInd1 = np.array(uniqueOverlapInd1); uniqueOverlapInd2 = np.array(uniqueOverlapInd2)\n",
    "    uniqueOverlapLen = np.array(uniqueOverlapLen)\n",
    "    \n",
    "    return (uniqueOverlapInd1,uniqueOverlapInd2,uniqueOverlapLen)\n",
    "\n",
    "def plot_embedding_3d(embedding, num_labels, label_dict, cmap=None):\n",
    "    fig = plt.figure(figsize=(7,6))\n",
    "    ax = fig.add_subplot(111, projection='3d')\n",
    "    labels = np.unique(num_labels)\n",
    "    scatter_res = ax.scatter(embedding[:,0], embedding[:,1], embedding[:,2],\n",
    "     s=4, alpha=1,c=num_labels, cmap='jet')\n",
    "\n",
    "    legend_proxies = []; legend_labels = []\n",
    "    for label in label_dict.keys() :\n",
    "        legend_color = cm.jet(label_dict[label] / float(len(label_dict.keys()) - 1))\n",
    "        legend_proxies.append(matplotlib.lines.Line2D([0], [0], linestyle='none', c=legend_color, marker='o'))\n",
    "        legend_labels.append(label)\n",
    "    ax.legend(legend_proxies, legend_labels, numpoints=1, loc='upper left')#bbox_to_anchor=(1, 1))\n",
    "\n",
    "def plot_embedding_2d(embedding, num_labels=None, label_dict=None, s_dict=None, a_dict=None, cmap=None, norm=None, title='' ):\n",
    "    fig = plt.figure(figsize=(7,6))\n",
    "    ax = fig.add_subplot(111)\n",
    "    if num_labels is None or label_dict is None :\n",
    "        scatter_res = ax.scatter(embedding[:,0], embedding[:,1], s=4, alpha=1)\n",
    "\n",
    "    else :\n",
    "        for label in label_dict.keys() :\n",
    "            Ind = np.where(num_labels == label_dict[label])[0]\n",
    "            color = cm.jet(label_dict[label] / float(len(label_dict.keys()) - 1))\n",
    "            if s_dict is None : \n",
    "                dotsize = 4 \n",
    "            else : \n",
    "                dotsize = s_dict[label]\n",
    "            if a_dict is None : \n",
    "                alpha = 1\n",
    "            else : \n",
    "                alpha = a_dict[label]\n",
    "            scatter_res = ax.scatter(embedding[Ind,0], embedding[Ind,1], s=dotsize, alpha=alpha,c=color, label=label)\n",
    "        ax.set_xlim( min(embedding[:,0]) - ( ( max(embedding[:,0]) - min(embedding[:,0]) ) * 0.5 ), max(embedding[:,0]) )\n",
    "        ax.set_ylim( min(embedding[:,1]), max(embedding[:,1]) + ( ( max(embedding[:,1]) - min(embedding[:,1]) ) * 0.5 ) )\n",
    "        ax.set_title(title)\n",
    "        ax.legend(loc='upper left',prop={'size': 12})\n",
    "          \n",
    "def plotBox ( data, ax = None, arcsinhFlag = True, outliers = False, title = None ) :\n",
    "    if arcsinhFlag : \n",
    "        plotData = [ np.arcsinh( data[:,i] ) for i in range(np.shape(data)[1]) ]    \n",
    "    else :\n",
    "        plotData = [ data[:,i] for i in range(np.shape(data)[1]) ]    \n",
    "    if ax is None :\n",
    "        plt.boxplot( plotData, showfliers = outliers )\n",
    "        if title is not None :\n",
    "            plt.title(title)\n",
    "        plt.show()\n",
    "    if ax is not None :\n",
    "        ax.boxplot( plotData, showfliers = outliers )\n",
    "        if title is not None :\n",
    "            ax.set_title(title)\n",
    "\n",
    "def parseAvocadoLocus ( chr, start, end, resolution = 'highmid', process = None, process_res = None, datapath = '/net/noble/vol2/home/gurkan/proj/2018locus_selection/Data/nn_avocado/raw/' ) :\n",
    "    data = np.load(datapath+'genome_'+chr+'.npy')\n",
    "    data_res = chooseResolution(data,resolution)\n",
    "\n",
    "    #GET THE FACTORS at LOCUS OF INTEREST (MYC)\n",
    "    startI = int(start / 25); endI = int(end / 25); \n",
    "    data_locus = data_res[np.arange(startI,endI),:]\n",
    "    \n",
    "    if process is not None and process_res is not None and process is 'average' :\n",
    "        data_locus = np.transpose(averageMatrix(np.transpose(data_locus),25,process_res))\n",
    "    if process is not None and process_res is not None and process is 'min' :\n",
    "        data_locus = np.transpose(minMatrix(np.transpose(data_locus),25,process_res))\n",
    "    return(data_locus)\n",
    "\n",
    "def generateLocusWindows ( chr, start, end, resolution ) :\n",
    "    windows = generateWindows([chr],resolution)\n",
    "    startI = int(start / resolution); endI = int(end / resolution); \n",
    "    locus_windows = windows[np.arange(startI,endI)]\n",
    "    locus_windows.dtype.names = ['f0','f1','f2']\n",
    "    return (locus_windows)\n",
    "\n",
    "def makeHistoneChIPMatrix (data, arcsinhFlag = True) :\n",
    "    if arcsinhFlag : \n",
    "        data_list = [ np.arcsinh( data[fieldname] ) for fieldname in data.dtype.names[1:]]    \n",
    "    else :\n",
    "        data_list = [ data[fieldname] for fieldname in data.dtype.names[1:]]\n",
    "    data_matrix = np.transpose(np.vstack(data_list))\n",
    "    return(data_matrix)\n",
    "\n",
    "def makeBed ( labels ) :\n",
    "    chrNames = np.array ([ (coords.decode()).split('_')[0] for coords in labels ] )\n",
    "    starts = np.array ([ int((coords.decode()).split('_')[1]) for coords in labels ] )\n",
    "    ends = np.array ([ int((coords.decode()).split('_')[2]) for coords in labels ] )\n",
    "    \n",
    "    table = np.zeros(len(chrNames), dtype={'names':('f0', 'f1', 'f2'),'formats':('S5', 'i4', 'i4')})\n",
    "    table['f0'] = chrNames; table['f1'] = starts+1; table['f2'] = ends;\n",
    "    return(table)\n",
    "    \n",
    "def selectSubset ( data_matrix, n = None, distance = 'euclidean', initial_subset = None, selection_subset = None ) :\n",
    "    if selection_subset is not None :\n",
    "        data_matrix = data_matrix[selection_subset]\n",
    "    \n",
    "    if n is None :\n",
    "        n = np.shape(data_matrix)[0]\n",
    "    \n",
    "    if initial_subset is None :\n",
    "        model = FacilityLocationSelection(n, distance)\n",
    "    else :\n",
    "        model = FacilityLocationSelection(n, distance, initial_subset = initial_subset )\n",
    "    \n",
    "    Xi = model.fit_transform(data_matrix)\n",
    "    SubsetInd = model.ranking\n",
    "    Gains = model.gains\n",
    "    \n",
    "    if selection_subset is not None :\n",
    "        SubsetInd = selection_subset[SubsetInd]\n",
    "    \n",
    "    return SubsetInd, Gains\n",
    "\n",
    "def makeSegwayAnnotation ( loci_windows, segway_anno) :\n",
    "    I1,I2,L1 = intersectBeds(loci_windows,segway_anno)\n",
    "\n",
    "    if len(I1) == len(loci_windows) : \n",
    "        segway_labels = segway_anno['f3'][I2]\n",
    "    else :\n",
    "        segway_labels = np.repeat('0_Undetermined',len(loci_windows))\n",
    "        segway_labels[I1] = segway_anno['f3'][I2]\n",
    "\n",
    "    segway_labels = [ label.split('_')[1] for label in segway_labels ]\n",
    "    segway_labels = np.array(segway_labels)\n",
    "    unique_labels = np.unique(segway_labels)\n",
    "    label_dict = {}\n",
    "    for i in range(len(unique_labels)) :\n",
    "        label_dict[unique_labels[i]] = i+1\n",
    "    segway_num_labels = [ label_dict[label] for label in segway_labels ]\n",
    "    \n",
    "    return (segway_num_labels, label_dict)\n",
    "\n",
    "\n",
    "def makeccREAnnotation ( loci_windows, ccREs ) :\n",
    "    I1,I2,L1 = intersectBeds(loci_windows,ccREs)\n",
    "\n",
    "    ccRE_num_labels = np.zeros(len(loci_windows))\n",
    "    ccRE_num_labels[I1] = 1\n",
    "    \n",
    "    label_dict = { 'ccRE' : 1, 'All' : 0 }\n",
    "    return (ccRE_num_labels, label_dict)\n",
    "\n",
    "def makeSubsetAnnotation ( subsetInd, subsetSize = None, k = 100 ) :\n",
    "    if subsetSize is None :\n",
    "        subsetSize = len(subsetInd)\n",
    "    subset_num_labels = np.zeros(subsetSize)\n",
    "    subset_num_labels[subsetInd[0:k]] = 1\n",
    "    \n",
    "    label_dict = { 'Subset' : 1, 'All' : 0 }\n",
    "    return (subset_num_labels, label_dict)\n",
    "\n",
    "def makeGeneralAnnotation ( Ind_list, label_list, k ) :\n",
    "    num_labels = np.zeros(k)\n",
    "    \n",
    "    label_dict = { 'All' : 0 }\n",
    "    for i in range(len(Ind_list)) :\n",
    "        num_labels[Ind_list[i]] = i + 1\n",
    "        label_dict[label_list[i]] = i + 1\n",
    "    return (num_labels, label_dict)"
   ]
  },
  {
   "cell_type": "code",
   "execution_count": 3,
   "metadata": {},
   "outputs": [],
   "source": [
    "def performEmbeddings ( data_list, n_components=2, random_state=2, metric= 'correlation', n_neighbors=15 ) :\n",
    "    embedding_list = []; \n",
    "    for data in data_list :\n",
    "        embedding_list.append( umap_transform(data, n_components=2, random_state=2, \n",
    "                                              n_neighbors=n_neighbors, metric=distanceMeasure)\n",
    "                             )\n",
    "    return (embedding_list)"
   ]
  },
  {
   "cell_type": "code",
   "execution_count": 4,
   "metadata": {},
   "outputs": [],
   "source": [
    "lociList = [ [ 'BCL11A', 'chr2', 59780500, 61780750 ], \n",
    "#['GATA1', 'chrX', 47644750, 49645000 ],\n",
    "['HBA2', 'chr16', 60000, 1223000 ],\n",
    "['HBE1', 'chr11', 4526750, 6527000 ],\n",
    "['LMO2', 'chr11', 32891250, 34891500 ],\n",
    "['MYC', 'chr8', 127748250, 129748500 ],\n",
    "['RBM38', 'chr20', 54966250, 56966500 ] ]\n",
    "\n",
    "avocado_gene_names = [ 'BCL11A',  'HBA2', 'HBE1', 'LMO2', 'MYC', 'RBM38' ]"
   ]
  },
  {
   "cell_type": "code",
   "execution_count": 5,
   "metadata": {},
   "outputs": [
    {
     "name": "stderr",
     "output_type": "stream",
     "text": [
      "/opt/anaconda3/lib/python3.7/site-packages/ipykernel_launcher.py:2: VisibleDeprecationWarning: Reading unicode strings without specifying the encoding argument is deprecated. Set the encoding, use None for the system default.\n",
      "  \n"
     ]
    }
   ],
   "source": [
    "datapath='/data/locusselect/k562_histone_marks/'\n",
    "histone_data = np.genfromtxt(datapath+'K562.binsize_250.mean.in_loci_of_interest.txt',dtype=None,skip_header=1)\n",
    "markNames = [ 'H2AFZ-human','H3K27ac-human','H3K27me3-human','H3K36me3-human','H3K4me1-human','H3K4me2-human',\n",
    "             'H3K4me3-human','H3K79me2-human' ,'H3K9ac-human','H3K9me3-human' ]\n",
    "\n",
    "locus_names = np.array ([ (coords.decode()).split('_')[-1] for coords in histone_data['f0'] ] )\n",
    "histone_gene_names, loci_counts = np.unique(locus_names,return_counts=True)\n",
    "bed = makeBed (histone_data['f0'])\n",
    "#DROP GATA\n",
    "histone_gene_names = histone_gene_names[[0,2,3,4,5,6]]"
   ]
  },
  {
   "cell_type": "code",
   "execution_count": 6,
   "metadata": {},
   "outputs": [],
   "source": [
    "histone_data_list = []; histone_rawdata_list = []; histone_bed_list = []\n",
    "for gene_name in histone_gene_names :\n",
    "    Ind = np.where(locus_names==gene_name)[0]\n",
    "    thisMatrix = makeHistoneChIPMatrix(histone_data[Ind],False);\n",
    "    \n",
    "    #FILTER OUT WINDOWS WITH NON-UNIQUE SCORES\n",
    "    rs = np.sum(thisMatrix,1); urs, urscount = np.unique(rs,return_counts=True)\n",
    "    filterInd = np.array([])\n",
    "    for thisurs in urs[urscount > 1]:\n",
    "        filterInd = np.append(filterInd,np.where(rs==thisurs)[0])\n",
    "    filterInd = Ind[filterInd.astype(int)]\n",
    "    Ind = np.setdiff1d(Ind,filterInd)\n",
    "    \n",
    "    histone_data_list.append(makeHistoneChIPMatrix(histone_data[Ind],True))\n",
    "    histone_rawdata_list.append(makeHistoneChIPMatrix(histone_data[Ind],False))\n",
    "    histone_bed_list.append(bed[Ind])"
   ]
  },
  {
   "cell_type": "code",
   "execution_count": 7,
   "metadata": {},
   "outputs": [],
   "source": [
    "datapath='/data/locusselect/avocado_latent_factors/'\n",
    "avocado_data_list = []; avocado_bed_list = []\n",
    "for locus in lociList :\n",
    "    avocado_data_list.append( parseAvocadoLocus(locus[1],locus[2],locus[3],process='average',process_res=250,datapath=datapath) )\n",
    "    avocado_bed_list.append( generateLocusWindows(locus[1],locus[2],locus[3],250) )"
   ]
  },
  {
   "cell_type": "code",
   "execution_count": 8,
   "metadata": {},
   "outputs": [
    {
     "name": "stdout",
     "output_type": "stream",
     "text": [
      "0 0\n",
      "0 1000\n",
      "0 2000\n",
      "0 3000\n",
      "0 4000\n",
      "0 5000\n",
      "0 6000\n",
      "0 7000\n",
      "0 8000\n",
      "1 0\n",
      "1 1000\n",
      "1 2000\n",
      "1 3000\n",
      "1 4000\n",
      "2 0\n",
      "2 1000\n",
      "2 2000\n",
      "2 3000\n",
      "2 4000\n",
      "2 5000\n",
      "2 6000\n",
      "2 7000\n",
      "2 8000\n",
      "3 0\n",
      "3 1000\n",
      "3 2000\n",
      "3 3000\n",
      "3 4000\n",
      "3 5000\n",
      "3 6000\n",
      "3 7000\n",
      "3 8000\n",
      "4 0\n",
      "4 1000\n",
      "4 2000\n",
      "4 3000\n",
      "4 4000\n",
      "4 5000\n",
      "4 6000\n",
      "4 7000\n",
      "4 8000\n",
      "5 0\n",
      "5 1000\n",
      "5 2000\n",
      "5 3000\n",
      "5 4000\n",
      "5 5000\n",
      "5 6000\n",
      "5 7000\n",
      "5 8000\n"
     ]
    }
   ],
   "source": [
    "#adjust histone and avocado bed\n",
    "def collect_merged_indices(histone_bed_list, avocado_bed_list):\n",
    "    indices_list = []\n",
    "    for i in range(len(histone_bed_list)):\n",
    "        histone_bed = histone_bed_list[i]\n",
    "        avocado_bed = avocado_bed_list[i]\n",
    "        indices = []\n",
    "        for j in range(len(avocado_bed)):\n",
    "            if(j%1000==0):\n",
    "                print(i,j)\n",
    "            coord = avocado_bed[j]\n",
    "            for bin0 in histone_bed:\n",
    "                if(coord==bin0):\n",
    "                    indices.append(j)\n",
    "                    break\n",
    "        indices_list.append(indices)\n",
    "    return indices_list\n",
    "\n",
    "indices_list = collect_merged_indices(histone_bed_list, avocado_bed_list)"
   ]
  },
  {
   "cell_type": "code",
   "execution_count": 9,
   "metadata": {},
   "outputs": [],
   "source": [
    "distanceMeasure = 'correlation'\n",
    "histone_embedding_list = performEmbeddings(histone_data_list,metric=distanceMeasure); "
   ]
  },
  {
   "cell_type": "code",
   "execution_count": 10,
   "metadata": {},
   "outputs": [],
   "source": [
    "distanceMeasure = 'correlation'\n",
    "avocado_embedding_list = performEmbeddings(avocado_data_list,metric=distanceMeasure); "
   ]
  },
  {
   "cell_type": "code",
   "execution_count": 11,
   "metadata": {},
   "outputs": [],
   "source": [
    "import numpy as np\n",
    "gkm_data_list = []; #avocado_bed_list = []\n",
    "for locus in lociList :\n",
    "    data = np.loadtxt(\"/data/locusselect/gkmexplain/gkmexplain.coord.embeddings.{}.txt.gz\".format(locus[0]))\n",
    "    gkm_data_list.append(data)"
   ]
  },
  {
   "cell_type": "code",
   "execution_count": 12,
   "metadata": {},
   "outputs": [],
   "source": [
    "def adjust_data(data_list, indices_list):\n",
    "    new_list = []\n",
    "    for i in range(len(data_list)):\n",
    "        data = data_list[i]\n",
    "        indices = indices_list[i]\n",
    "        new_data = data_list[i][indices]\n",
    "        new_list.append(new_data)\n",
    "        \n",
    "    return new_list\n",
    "\n",
    "adj_avocado_bed_list = adjust_data(avocado_bed_list, indices_list)\n",
    "adj_avocado_data_list = adjust_data(avocado_data_list, indices_list)\n",
    "adj_avocado_embedding_list = adjust_data(avocado_embedding_list, indices_list)\n",
    "adj_gkm_data_list = adjust_data(gkm_data_list, indices_list)"
   ]
  },
  {
   "cell_type": "code",
   "execution_count": 13,
   "metadata": {},
   "outputs": [],
   "source": [
    "import pandas as pd\n",
    "groseq = \"/data/locusselect/k562_annotations/hg19.k562.pair.div.bed\"\n",
    "gropeaks = pd.read_csv(\"positive_gropeak.bed\", sep='\\t', header=None)\n",
    "\n"
   ]
  },
  {
   "cell_type": "code",
   "execution_count": 14,
   "metadata": {},
   "outputs": [
    {
     "name": "stdout",
     "output_type": "stream",
     "text": [
      "243 42776\n"
     ]
    }
   ],
   "source": [
    "def get_labels(bed_list):\n",
    "    labels_list = []\n",
    "    count = 0\n",
    "    total = 0\n",
    "    overlap_list = []\n",
    "    for coordlist in bed_list:\n",
    "        labels = []\n",
    "        overlaps = []\n",
    "        for coord in coordlist:\n",
    "            bin0 = (coord[0].decode(\"utf8\"), int(coord[1]), int(coord[2]))\n",
    "            olstart = gropeaks[(gropeaks[0]==bin0[0]) & (bin0[1]>gropeaks[1]) & (bin0[1]<gropeaks[2])] #start is not inside\n",
    "            olend = gropeaks[(gropeaks[0]==bin0[0]) & (bin0[2]>gropeaks[1]) & (bin0[2]<gropeaks[2])] #end in not inside\n",
    "            if(olstart.shape[0]==0 and olend.shape[0]==0):\n",
    "                overlap = 0\n",
    "            elif(olstart.shape[0]==0 and olend.shape[0]!=0):\n",
    "                #print(\"only end is inside\")\n",
    "                overlap = max(bin0[2] - olend.loc[:,1].values)/250.0\n",
    "            elif(olstart.shape[0]!=0 and olend.shape[0]==0):\n",
    "                #print(\"only start is inside\")\n",
    "                overlap = max(olstart.loc[:,2].values - bin0[1]+1)/250.0 \n",
    "            elif(olstart.shape[0]!=0 and olend.shape[0]!=0):\n",
    "                overlap = 1.0\n",
    "            if(overlap>0.1):\n",
    "                label=1\n",
    "                count = count+1\n",
    "            else:\n",
    "                label=0\n",
    "            total = total+1\n",
    "            labels.append(label)\n",
    "            overlaps.append(overlap)\n",
    "        labels_list.append(labels)\n",
    "        overlap_list.append(overlaps)\n",
    "            #bin0 = pybedtools.create_interval_from_list([coord[0].decode(\"utf8\"), int(coord[1]), int(coord[2])])\n",
    "    print(count, total)\n",
    "    return labels_list, overlap_list\n",
    "labels_list, overlap_list = get_labels(adj_avocado_bed_list)"
   ]
  },
  {
   "cell_type": "code",
   "execution_count": 15,
   "metadata": {},
   "outputs": [],
   "source": [
    "def split_data(data_list, labels_list):\n",
    "    train_data_list = []\n",
    "    test_data_list = []\n",
    "    train_labels_list = []\n",
    "    test_labels_list = []\n",
    "    imbalance_in_train = []\n",
    "    imbalance_in_test = []\n",
    "    for i in range(len(data_list)):\n",
    "        #print(i)\n",
    "        data = data_list[i]\n",
    "        labels = np.expand_dims(np.array(labels_list[i]), axis=1)\n",
    "        \n",
    "        train_size = int(data.shape[0]*0.7)\n",
    "        train_data = data[:train_size]\n",
    "        test_data = data[train_size:]\n",
    "        train_data_list.append(train_data)\n",
    "        test_data_list.append(test_data)\n",
    "        \n",
    "        train_labels = labels[:train_size]\n",
    "        test_labels = labels[train_size:]\n",
    "        train_labels_list.append(train_labels)\n",
    "        test_labels_list.append(test_labels)\n",
    "        \n",
    "        npos = np.sum(np.array(train_labels)>0)\n",
    "        nneg = len(train_labels) - npos\n",
    "        imbalance_in_train.append(1.0*npos/(npos+nneg))\n",
    "        \n",
    "        npos = np.sum(np.array(test_labels)>0)\n",
    "        nneg = len(test_labels) - npos\n",
    "        imbalance_in_test.append(1.0*npos/(npos+nneg))\n",
    "\n",
    "    splited_data = {'train': train_data_list, 'test': test_data_list}\n",
    "    splited_labels = {'train': train_labels_list, 'test': test_labels_list}\n",
    "    splited_imbalances = {'train': imbalance_in_train, 'test': imbalance_in_test}\n",
    "    return splited_data, splited_labels, splited_imbalances\n",
    "\n",
    "\n",
    "histone_splited_list, histone_splited_labels, histone_splited_imbalance = split_data(histone_data_list, labels_list)\n",
    "avocado_splited_list, splited_labels, splited_imbalance = split_data(adj_avocado_data_list, labels_list)\n",
    "gkm_splited_list, gkm_splited_labels, gkm_splited_imbalance = split_data(adj_gkm_data_list, labels_list)\n",
    "#deeplift_splited_list, deeplift_splited_labels, deeplift_splited_imbalance = split_data(deeplift_data_list, labels_list)"
   ]
  },
  {
   "cell_type": "code",
   "execution_count": 17,
   "metadata": {},
   "outputs": [
    {
     "name": "stdout",
     "output_type": "stream",
     "text": [
      "(7534, 10) (7534, 5120) (7534, 65)\n",
      "(4533, 10) (4533, 5120) (4533, 65)\n",
      "(7572, 10) (7572, 5120) (7572, 65)\n",
      "(7711, 10) (7711, 5120) (7711, 65)\n",
      "(7567, 10) (7567, 5120) (7567, 65)\n",
      "(7859, 10) (7859, 5120) (7859, 65)\n"
     ]
    }
   ],
   "source": [
    "for i,j,k in zip(histone_data_list, adj_gkm_data_list, adj_avocado_data_list):\n",
    "    print(i.shape, j.shape, k.shape)"
   ]
  },
  {
   "cell_type": "code",
   "execution_count": 18,
   "metadata": {},
   "outputs": [
    {
     "data": {
      "text/plain": [
       "{'train': [0.0013275175421960932,\n",
       "  0.02363693665300977,\n",
       "  0.0035849056603773585,\n",
       "  0.008523253659440429,\n",
       "  0.005853474320241692,\n",
       "  0.004726413379385566],\n",
       " 'test': [0.004422821760283061,\n",
       "  0.0029411764705882353,\n",
       "  0.002640845070422535,\n",
       "  0.0038893690579083835,\n",
       "  0.0035226772346983706,\n",
       "  0.0008481764206955047]}"
      ]
     },
     "execution_count": 18,
     "metadata": {},
     "output_type": "execute_result"
    }
   ],
   "source": [
    "histone_splited_imbalance"
   ]
  },
  {
   "cell_type": "code",
   "execution_count": 19,
   "metadata": {},
   "outputs": [
    {
     "data": {
      "text/plain": [
       "{'train': [0.0013275175421960932,\n",
       "  0.02363693665300977,\n",
       "  0.0035849056603773585,\n",
       "  0.008523253659440429,\n",
       "  0.005853474320241692,\n",
       "  0.004726413379385566],\n",
       " 'test': [0.004422821760283061,\n",
       "  0.0029411764705882353,\n",
       "  0.002640845070422535,\n",
       "  0.0038893690579083835,\n",
       "  0.0035226772346983706,\n",
       "  0.0008481764206955047]}"
      ]
     },
     "execution_count": 19,
     "metadata": {},
     "output_type": "execute_result"
    }
   ],
   "source": [
    "gkm_splited_imbalance"
   ]
  },
  {
   "cell_type": "code",
   "execution_count": 20,
   "metadata": {},
   "outputs": [
    {
     "data": {
      "text/plain": [
       "{'train': [0.0013275175421960932,\n",
       "  0.02363693665300977,\n",
       "  0.0035849056603773585,\n",
       "  0.008523253659440429,\n",
       "  0.005853474320241692,\n",
       "  0.004726413379385566],\n",
       " 'test': [0.004422821760283061,\n",
       "  0.0029411764705882353,\n",
       "  0.002640845070422535,\n",
       "  0.0038893690579083835,\n",
       "  0.0035226772346983706,\n",
       "  0.0008481764206955047]}"
      ]
     },
     "execution_count": 20,
     "metadata": {},
     "output_type": "execute_result"
    }
   ],
   "source": [
    "splited_imbalance"
   ]
  },
  {
   "cell_type": "code",
   "execution_count": 21,
   "metadata": {},
   "outputs": [
    {
     "name": "stdout",
     "output_type": "stream",
     "text": [
      "(12836, 11)\n",
      "(29940, 11)\n",
      "(12836, 66)\n",
      "(29940, 66)\n",
      "(12836, 5121)\n",
      "(29940, 5121)\n"
     ]
    }
   ],
   "source": [
    "def merge_data_labels(data_list, labels_list):\n",
    "    \n",
    "    total_data = None\n",
    "    \n",
    "    for i in range(len(data_list)):\n",
    "        x = data_list[i]\n",
    "        y = labels_list[i]\n",
    "        \n",
    "        data = np.hstack((y,x))\n",
    "        if(total_data is None):\n",
    "            total_data = data\n",
    "        else:\n",
    "            total_data = np.vstack((total_data, data))\n",
    "\n",
    "    print(total_data.shape)\n",
    "    \n",
    "    return total_data\n",
    "\n",
    "histone_test_data = merge_data_labels(histone_splited_list['test'], splited_labels['test'])\n",
    "histone_train_data = merge_data_labels(histone_splited_list['train'], splited_labels['train'])\n",
    "\n",
    "avocado_test_data = merge_data_labels(avocado_splited_list['test'], splited_labels['test'])\n",
    "avocado_train_data = merge_data_labels(avocado_splited_list['train'], splited_labels['train'])\n",
    "gkm_test_data = merge_data_labels(gkm_splited_list['test'], splited_labels['test'])\n",
    "gkm_train_data = merge_data_labels(gkm_splited_list['train'], splited_labels['train'])\n",
    "# deeplift_test_data = merge_data_labels(deeplift_splited_list['test'], splited_labels['test'])\n",
    "# deeplift_train_data = merge_data_labels(deeplift_splited_list['train'], splited_labels['train'])\n"
   ]
  },
  {
   "cell_type": "code",
   "execution_count": 22,
   "metadata": {},
   "outputs": [
    {
     "name": "stdout",
     "output_type": "stream",
     "text": [
      "(12836, 76)\n",
      "(29940, 76)\n",
      "(12836, 5186)\n",
      "(29940, 5186)\n",
      "(12836, 5131)\n",
      "(29940, 5131)\n",
      "(12836, 5196)\n",
      "(29940, 5196)\n"
     ]
    }
   ],
   "source": [
    "def merge_multiple_datasets(data_dict, labeled=True):\n",
    "    total_data = None\n",
    "    if(labeled==True): #skip appending labels multiple times\n",
    "        start_append_at = 1\n",
    "    else:\n",
    "        start_append_at = 0\n",
    "    for crit, current_data in data_dict.items():\n",
    "        if(total_data is None):\n",
    "            total_data = current_data\n",
    "        else:\n",
    "            total_data = np.hstack((total_data, current_data[:, start_append_at:]))\n",
    "    \n",
    "    print(total_data.shape)\n",
    "    return total_data\n",
    "\n",
    "avocado_histone_test_data = merge_multiple_datasets({'avocado': avocado_test_data, 'histone': histone_test_data})\n",
    "avocado_histone_train_data = merge_multiple_datasets({'avocado': avocado_train_data, 'histone': histone_train_data})\n",
    "\n",
    "avocado_gkm_test_data = merge_multiple_datasets({'avocado': avocado_test_data, 'gkm': gkm_test_data})\n",
    "avocado_gkm_train_data = merge_multiple_datasets({'avocado': avocado_train_data, 'gkm': gkm_train_data})\n",
    "\n",
    "histone_gkm_test_data = merge_multiple_datasets({'histone': histone_test_data, 'gkm': gkm_test_data})\n",
    "histone_gkm_train_data = merge_multiple_datasets({'histone': histone_train_data, 'gkm': gkm_train_data})\n",
    "\n",
    "\n",
    "avocado_histone_gkm_test_data = merge_multiple_datasets({'avocado': avocado_test_data, \n",
    "                                                         'histone': histone_test_data,\n",
    "                                                 'gkm': gkm_test_data})\n",
    "avocado_histone_gkm_train_data = merge_multiple_datasets({'avocado': avocado_train_data, \n",
    "                                                          'histone': histone_train_data,\n",
    "                                                  'gkm': gkm_train_data})\n",
    "\n",
    "\n"
   ]
  },
  {
   "cell_type": "code",
   "execution_count": 23,
   "metadata": {},
   "outputs": [],
   "source": [
    "import matplotlib.pyplot as plt\n",
    "from sklearn.linear_model import LogisticRegression\n",
    "from sklearn.metrics import average_precision_score\n",
    "from sklearn.metrics import precision_recall_curve, auc\n",
    "def make_prediction(train_data, test_data, header=\"\"):\n",
    "    \n",
    "    model = LogisticRegression(random_state=0, solver='lbfgs', multi_class='multinomial')#.fit(X, y)\n",
    "    model.fit(train_data[:, 1:], train_data[:, 0]) #1st column is label\n",
    "    predicted_classes = model.predict(test_data[:, 1:]) #1st column is label\n",
    "    \n",
    "    average_precision = average_precision_score(test_data[:, 0], predicted_classes)\n",
    "    precision, recall, _ = precision_recall_curve(test_data[:, 0], predicted_classes)\n",
    "    area = auc(recall, precision)\n",
    "    plt.step(recall, precision, color='b', alpha=0.2,\n",
    "             where='post')\n",
    "    # step_kwargs = ({'step': 'post'}\n",
    "    #                if 'step' in signature(plt.fill_between).parameters\n",
    "    #                else {})\n",
    "    plt.fill_between(recall, precision, alpha=0.2, color='b')\n",
    "\n",
    "    plt.xlabel('Recall')\n",
    "    plt.ylabel('Precision')\n",
    "    plt.ylim([0.0, 1.05])\n",
    "    plt.xlim([0.0, 1.0])\n",
    "    plt.title('{0}\\nArea Under Precision-Recall curve: {1}'.format(header, round(area, 2)))\n",
    "    return area"
   ]
  },
  {
   "cell_type": "code",
   "execution_count": 24,
   "metadata": {},
   "outputs": [
    {
     "data": {
      "text/plain": [
       "0.3154269642272135"
      ]
     },
     "execution_count": 24,
     "metadata": {},
     "output_type": "execute_result"
    },
    {
     "data": {
      "image/png": "[encoded data removed]",
      "text/plain": [
       "<Figure size 432x288 with 1 Axes>"
      ]
     },
     "metadata": {
      "needs_background": "light"
     },
     "output_type": "display_data"
    }
   ],
   "source": [
    "make_prediction(avocado_train_data, avocado_test_data, \"avocado\")"
   ]
  },
  {
   "cell_type": "code",
   "execution_count": 25,
   "metadata": {},
   "outputs": [
    {
     "data": {
      "text/plain": [
       "0.21457216046652008"
      ]
     },
     "execution_count": 25,
     "metadata": {},
     "output_type": "execute_result"
    },
    {
     "data": {
      "image/png": "[encoded data removed]",
      "text/plain": [
       "<Figure size 432x288 with 1 Axes>"
      ]
     },
     "metadata": {
      "needs_background": "light"
     },
     "output_type": "display_data"
    }
   ],
   "source": [
    "make_prediction(histone_train_data, histone_test_data, \"histone\")"
   ]
  },
  {
   "cell_type": "code",
   "execution_count": 26,
   "metadata": {},
   "outputs": [
    {
     "data": {
      "text/plain": [
       "0.36041561793353627"
      ]
     },
     "execution_count": 26,
     "metadata": {},
     "output_type": "execute_result"
    },
    {
     "data": {
      "image/png": "[encoded data removed]",
      "text/plain": [
       "<Figure size 432x288 with 1 Axes>"
      ]
     },
     "metadata": {
      "needs_background": "light"
     },
     "output_type": "display_data"
    }
   ],
   "source": [
    "make_prediction(gkm_train_data, gkm_test_data, \"gkm_embeddings\")"
   ]
  },
  {
   "cell_type": "code",
   "execution_count": 27,
   "metadata": {},
   "outputs": [
    {
     "name": "stderr",
     "output_type": "stream",
     "text": [
      "/opt/anaconda3/lib/python3.7/site-packages/sklearn/linear_model/logistic.py:758: ConvergenceWarning: lbfgs failed to converge. Increase the number of iterations.\n",
      "  \"of iterations.\", ConvergenceWarning)\n"
     ]
    },
    {
     "data": {
      "text/plain": [
       "0.427679443232575"
      ]
     },
     "execution_count": 27,
     "metadata": {},
     "output_type": "execute_result"
    },
    {
     "data": {
      "image/png": "[encoded data removed]",
      "text/plain": [
       "<Figure size 432x288 with 1 Axes>"
      ]
     },
     "metadata": {
      "needs_background": "light"
     },
     "output_type": "display_data"
    }
   ],
   "source": [
    "make_prediction(avocado_histone_train_data, avocado_histone_test_data, \"avocado+histone\")"
   ]
  },
  {
   "cell_type": "code",
   "execution_count": 28,
   "metadata": {},
   "outputs": [
    {
     "data": {
      "text/plain": [
       "0.5460014302722311"
      ]
     },
     "execution_count": 28,
     "metadata": {},
     "output_type": "execute_result"
    },
    {
     "data": {
      "image/png": "[encoded data removed]",
      "text/plain": [
       "<Figure size 432x288 with 1 Axes>"
      ]
     },
     "metadata": {
      "needs_background": "light"
     },
     "output_type": "display_data"
    }
   ],
   "source": [
    "make_prediction(avocado_gkm_train_data, avocado_gkm_test_data, \"avocado+gkm_embeddings\")"
   ]
  },
  {
   "cell_type": "code",
   "execution_count": 29,
   "metadata": {},
   "outputs": [
    {
     "name": "stderr",
     "output_type": "stream",
     "text": [
      "/opt/anaconda3/lib/python3.7/site-packages/sklearn/linear_model/logistic.py:758: ConvergenceWarning: lbfgs failed to converge. Increase the number of iterations.\n",
      "  \"of iterations.\", ConvergenceWarning)\n"
     ]
    },
    {
     "data": {
      "text/plain": [
       "0.31399132348123465"
      ]
     },
     "execution_count": 29,
     "metadata": {},
     "output_type": "execute_result"
    },
    {
     "data": {
      "image/png": "[encoded data removed]",
      "text/plain": [
       "<Figure size 432x288 with 1 Axes>"
      ]
     },
     "metadata": {
      "needs_background": "light"
     },
     "output_type": "display_data"
    }
   ],
   "source": [
    "make_prediction(histone_gkm_train_data, histone_gkm_test_data, \"histone+gkm_embeddings\")"
   ]
  },
  {
   "cell_type": "code",
   "execution_count": 49,
   "metadata": {},
   "outputs": [
    {
     "name": "stderr",
     "output_type": "stream",
     "text": [
      "/opt/anaconda3/lib/python3.7/site-packages/sklearn/linear_model/logistic.py:758: ConvergenceWarning: lbfgs failed to converge. Increase the number of iterations.\n",
      "  \"of iterations.\", ConvergenceWarning)\n"
     ]
    },
    {
     "data": {
      "text/plain": [
       "0.4218403134530729"
      ]
     },
     "execution_count": 49,
     "metadata": {},
     "output_type": "execute_result"
    },
    {
     "data": {
      "image/png": "[encoded data removed]",
      "text/plain": [
       "<Figure size 432x288 with 1 Axes>"
      ]
     },
     "metadata": {
      "needs_background": "light"
     },
     "output_type": "display_data"
    }
   ],
   "source": [
    "make_prediction(avocado_histone_gkm_train_data, avocado_histone_gkm_test_data, \"avocado+histone+gkm_embeddings\")"
   ]
  },
  {
   "cell_type": "code",
   "execution_count": 33,
   "metadata": {},
   "outputs": [
    {
     "data": {
      "text/plain": [
       "((29940, 66), (29940, 11), (29940, 5121))"
      ]
     },
     "execution_count": 33,
     "metadata": {},
     "output_type": "execute_result"
    }
   ],
   "source": [
    "avocado_train_data.shape, histone_train_data.shape, gkm_train_data.shape, "
   ]
  },
  {
   "cell_type": "code",
   "execution_count": 34,
   "metadata": {},
   "outputs": [
    {
     "data": {
      "text/plain": [
       "((29940, 76), (29940, 5131), (29940, 5186))"
      ]
     },
     "execution_count": 34,
     "metadata": {},
     "output_type": "execute_result"
    }
   ],
   "source": [
    "avocado_histone_train_data.shape, histone_gkm_train_data.shape, avocado_gkm_train_data.shape"
   ]
  },
  {
   "cell_type": "code",
   "execution_count": 35,
   "metadata": {},
   "outputs": [
    {
     "data": {
      "text/plain": [
       "(29940, 5196)"
      ]
     },
     "execution_count": 35,
     "metadata": {},
     "output_type": "execute_result"
    }
   ],
   "source": [
    "avocado_histone_gkm_train_data.shape"
   ]
  },
  {
   "cell_type": "code",
   "execution_count": 47,
   "metadata": {},
   "outputs": [
    {
     "name": "stdout",
     "output_type": "stream",
     "text": [
      "(29940, 75) (29940, 75)\n"
     ]
    },
    {
     "name": "stderr",
     "output_type": "stream",
     "text": [
      "/opt/anaconda3/lib/python3.7/site-packages/sklearn/linear_model/logistic.py:758: ConvergenceWarning: lbfgs failed to converge. Increase the number of iterations.\n",
      "  \"of iterations.\", ConvergenceWarning)\n"
     ]
    },
    {
     "data": {
      "text/plain": [
       "0.5143007247245328"
      ]
     },
     "execution_count": 47,
     "metadata": {},
     "output_type": "execute_result"
    },
    {
     "data": {
      "image/png": "[encoded data removed]",
      "text/plain": [
       "<Figure size 432x288 with 1 Axes>"
      ]
     },
     "metadata": {
      "needs_background": "light"
     },
     "output_type": "display_data"
    }
   ],
   "source": [
    "def make_control_set(train_data, keep_count, replace_count):\n",
    "    new_train_data = np.copy(train_data)\n",
    "    replace_by = np.random.rand(train_data.shape[0], replace_count)\n",
    "    print(replace_by.shape, new_train_data[:, 1:(replace_count+1)].shape, )\n",
    "    new_train_data[:, 1:(replace_count+1)] = replace_by\n",
    "    \n",
    "    return new_train_data\n",
    "\n",
    "avocado_histone_gkm_train_ctrl = make_control_set(avocado_histone_gkm_train_data, 5121, 10+65)\n",
    "make_prediction(avocado_histone_gkm_train_ctrl, avocado_histone_gkm_test_data, \"control for avocado+histone+gkm_embeddings\")"
   ]
  },
  {
   "cell_type": "code",
   "execution_count": 48,
   "metadata": {},
   "outputs": [
    {
     "name": "stdout",
     "output_type": "stream",
     "text": [
      "(29940, 65) (29940, 65)\n"
     ]
    },
    {
     "name": "stderr",
     "output_type": "stream",
     "text": [
      "/opt/anaconda3/lib/python3.7/site-packages/sklearn/linear_model/logistic.py:758: ConvergenceWarning: lbfgs failed to converge. Increase the number of iterations.\n",
      "  \"of iterations.\", ConvergenceWarning)\n"
     ]
    },
    {
     "data": {
      "text/plain": [
       "0.5143007247245328"
      ]
     },
     "execution_count": 48,
     "metadata": {},
     "output_type": "execute_result"
    },
    {
     "data": {
      "image/png": "[encoded data removed]",
      "text/plain": [
       "<Figure size 432x288 with 1 Axes>"
      ]
     },
     "metadata": {
      "needs_background": "light"
     },
     "output_type": "display_data"
    }
   ],
   "source": [
    "avocado_gkm_train_ctrl = make_control_set(avocado_gkm_train_data, 5121, 65)\n",
    "make_prediction(avocado_gkm_train_ctrl, avocado_gkm_test_data, \"control for avocado+gkm_embeddings\")"
   ]
  },
  {
   "cell_type": "code",
   "execution_count": null,
   "metadata": {},
   "outputs": [],
   "source": []
  }
 ],
 "metadata": {
  "kernelspec": {
   "display_name": "Python 3",
   "language": "python",
   "name": "python3"
  },
  "language_info": {
   "codemirror_mode": {
    "name": "ipython",
    "version": 3
   },
   "file_extension": ".py",
   "mimetype": "text/x-python",
   "name": "python",
   "nbconvert_exporter": "python",
   "pygments_lexer": "ipython3",
   "version": "3.7.3"
  }
 },
 "nbformat": 4,
 "nbformat_minor": 2
}
