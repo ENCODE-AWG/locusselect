{
 "cells": [
  {
   "cell_type": "code",
   "execution_count": 1,
   "metadata": {},
   "outputs": [],
   "source": [
    "import numpy as np\n",
    "from sklearn import manifold\n",
    "from apricot import FacilityLocationSelection\n",
    "from apricot import FeatureBasedSelection\n",
    "import matplotlib\n",
    "from matplotlib import pyplot as plt\n",
    "from mpl_toolkits.mplot3d import Axes3D\n",
    "from matplotlib import cm\n",
    "import umap\n",
    "from sklearn.manifold import TSNE\n",
    "import pandas as pd\n",
    "import os\n"
   ]
  },
  {
   "cell_type": "code",
   "execution_count": 2,
   "metadata": {},
   "outputs": [],
   "source": [
    "def getChrLen ( chr = 'chr1', assembly = 'hg19' ):\n",
    "    chrsizes = np.loadtxt('/data/locusselect/' + assembly + '.chromsizes.txt',dtype={'names': ('chr','len'),'formats':('S6','i4')} )\n",
    "    #print (chrsizes)\n",
    "    for i in range(len(chrsizes)):\n",
    "        if ( chrsizes[i][0].decode() == chr ):\n",
    "            return (chrsizes[i][1] )\n",
    "        \n",
    "def generateWindows (chrs,res) :\n",
    "        for chr in chrs:\n",
    "                chrLen = getChrLen(chr)\n",
    "                L = int(np.ceil(float(chrLen) / res ))\n",
    "                starts = np.arange(0,L*res,res)\n",
    "                ends = np.arange(res,(L+1)*res,res);    ends[-1] = chrLen\n",
    "                chrNames = np.repeat(np.array([chr]),L)\n",
    "\n",
    "        table = np.zeros(int(L), dtype={'names':('chr', 'start', 'end'),'formats':('S5', 'i4', 'i4')})\n",
    "        table['chr'] = chrNames; table['start'] = starts+1; table['end'] = ends;\n",
    "        return(table)\n",
    "\n",
    "def averageMatrix(m, startRes=25, endRes=1000) :\n",
    "        if endRes % startRes != 0 :\n",
    "                print (\"resolutions problematic, find a divisible one\")\n",
    "                return -1\n",
    "        k = endRes / startRes\n",
    "        (y,x) = np.shape(m)\n",
    "        \n",
    "        sliceSeq = np.arange(0,x,k)\n",
    "        \n",
    "        averagedM = np.zeros((y,int(np.ceil( x/float(k)))) )\n",
    "        \n",
    "        for i in range(len(sliceSeq)-1) :\n",
    "                averagedM[:,i] = np.average(m[:,int(sliceSeq[i]):int(sliceSeq[i+1])],axis=1)\n",
    "\n",
    "        averagedM[:,-1] = np.average(m[:,int(sliceSeq[-1]):x],axis=1)\n",
    "\n",
    "        return (averagedM)\n",
    "\n",
    "def chooseResolution (p, resolution='all') :\n",
    "    if resolution == 'all' :\n",
    "        p = p\n",
    "    if resolution == 'high' :\n",
    "        p = p[:,0:25]\n",
    "    if resolution == 'mid' :\n",
    "        p = p[:,25:65]\n",
    "    if resolution == 'highmid' :\n",
    "        p = p[:,0:65]\n",
    "    if resolution == 'low' :\n",
    "        p = p[:,65:110]\n",
    "    return p\n",
    "    \n",
    "def umap_transform(peak_data, n_components=3, random_state=25, metric = 'correlation',n_neighbors=15,min_dist=0.1):\n",
    "    umap_obj = umap.UMAP(n_components=n_components, random_state=random_state,\n",
    "        min_dist=min_dist,metric=metric,n_neighbors=n_neighbors)\n",
    "    try:\n",
    "        umap_res = umap_obj.fit_transform(peak_data.toarray())\n",
    "    except:\n",
    "        umap_res = umap_obj.fit_transform(peak_data)\n",
    "    return umap_res\n",
    "    \n",
    "def intersectBeds ( bed1, bed2, pickLargestOverlap = True ) :\n",
    "    chrs1 = np.unique(bed1['f0']);  chrs2 = np.unique(bed2['f0'])\n",
    "    allchrs = np.intersect1d(chrs1,chrs2)\n",
    "    overlapInd1 = []; overlapInd2 = []; overlapLen = []\n",
    "    for chr in allchrs :\n",
    "        Ind1 = np.where(bed1['f0']==chr)[0];    Ind2 = np.where(bed2['f0']==chr)[0]\n",
    "        midPoint1 = ( bed1['f2'][Ind1] + bed1['f1'][Ind1] ) / 2\n",
    "        midPoint2 = ( bed2['f2'][Ind2] + bed2['f1'][Ind2] ) / 2\n",
    "        int1 = bed1['f2'][Ind1] - bed1['f1'][Ind1] + 1\n",
    "        int2 = bed2['f2'][Ind2] - bed2['f1'][Ind2] + 1\n",
    "        maxInt = 2 * np.max(np.append(int1,int2))\n",
    "        for I in range(len(Ind1)) :\n",
    "            dist = np.abs( midPoint1[I] - midPoint2 )\n",
    "            closeInd = Ind2[ np.where( dist < maxInt )[0] ]\n",
    "            if len(closeInd) > 0 :\n",
    "                for I2 in closeInd :\n",
    "                    maxStart = max(bed1[Ind1[I]][1], bed2[I2][1])\n",
    "                    minEnd = min(bed1[Ind1[I]][2], bed2[I2][2])\n",
    "                    if maxStart < minEnd:\n",
    "                        overlapInd1.append(Ind1[I])\n",
    "                        overlapInd2.append(I2)\n",
    "                        overlapLen.append(minEnd-maxStart)\n",
    "                        \n",
    "    overlapInd1 = np.array(overlapInd1); overlapInd2 = np.array(overlapInd2); overlapLen = np.array(overlapLen)\n",
    "    \n",
    "    uniqueOverlapInd1 = []; uniqueOverlapInd2 = []; uniqueOverlapLen = []\n",
    "    if pickLargestOverlap == True :\n",
    "        uniqueOI1 = np.unique(overlapInd1)\n",
    "        for uI in uniqueOI1 :\n",
    "            Ind = np.where(overlapInd1==uI)[0]\n",
    "            Ord = np.argsort(overlapLen[Ind])\n",
    "            uniqueOverlapInd1.append(uI); uniqueOverlapInd2.append(overlapInd2[Ind[Ord[-1]]]);\n",
    "            uniqueOverlapLen.append(overlapLen[Ind[Ord[-1]]])\n",
    "    \n",
    "    uniqueOverlapInd1 = np.array(uniqueOverlapInd1); uniqueOverlapInd2 = np.array(uniqueOverlapInd2)\n",
    "    uniqueOverlapLen = np.array(uniqueOverlapLen)\n",
    "    \n",
    "    return (uniqueOverlapInd1,uniqueOverlapInd2,uniqueOverlapLen)\n",
    "\n",
    "def plot_embedding_3d(embedding, num_labels, label_dict, cmap=None):\n",
    "    fig = plt.figure(figsize=(7,6))\n",
    "    ax = fig.add_subplot(111, projection='3d')\n",
    "    labels = np.unique(num_labels)\n",
    "    scatter_res = ax.scatter(embedding[:,0], embedding[:,1], embedding[:,2],\n",
    "     s=4, alpha=1,c=num_labels, cmap='jet')\n",
    "\n",
    "    legend_proxies = []; legend_labels = []\n",
    "    for label in label_dict.keys() :\n",
    "        legend_color = cm.jet(label_dict[label] / float(len(label_dict.keys()) - 1))\n",
    "        legend_proxies.append(matplotlib.lines.Line2D([0], [0], linestyle='none', c=legend_color, marker='o'))\n",
    "        legend_labels.append(label)\n",
    "    ax.legend(legend_proxies, legend_labels, numpoints=1, loc='upper left')#bbox_to_anchor=(1, 1))\n",
    "\n",
    "def plot_embedding_2d(embedding, num_labels=None, label_dict=None, s_dict=None, a_dict=None, cmap=None, norm=None, title='' ):\n",
    "    fig = plt.figure(figsize=(7,6))\n",
    "    ax = fig.add_subplot(111)\n",
    "    if num_labels is None or label_dict is None :\n",
    "        scatter_res = ax.scatter(embedding[:,0], embedding[:,1], s=4, alpha=1)\n",
    "\n",
    "    else :\n",
    "        for label in label_dict.keys() :\n",
    "            Ind = np.where(num_labels == label_dict[label])[0]\n",
    "            color = cm.jet(label_dict[label] / float(len(label_dict.keys()) - 1))\n",
    "            if s_dict is None : \n",
    "                dotsize = 4 \n",
    "            else : \n",
    "                dotsize = s_dict[label]\n",
    "            if a_dict is None : \n",
    "                alpha = 1\n",
    "            else : \n",
    "                alpha = a_dict[label]\n",
    "            scatter_res = ax.scatter(embedding[Ind,0], embedding[Ind,1], s=dotsize, alpha=alpha,c=color, label=label)\n",
    "        ax.set_xlim( min(embedding[:,0]) - ( ( max(embedding[:,0]) - min(embedding[:,0]) ) * 0.5 ), max(embedding[:,0]) )\n",
    "        ax.set_ylim( min(embedding[:,1]), max(embedding[:,1]) + ( ( max(embedding[:,1]) - min(embedding[:,1]) ) * 0.5 ) )\n",
    "        ax.set_title(title)\n",
    "        ax.legend(loc='upper left',prop={'size': 12})\n",
    "          \n",
    "def plotBox ( data, ax = None, arcsinhFlag = True, outliers = False, title = None ) :\n",
    "    if arcsinhFlag : \n",
    "        plotData = [ np.arcsinh( data[:,i] ) for i in range(np.shape(data)[1]) ]    \n",
    "    else :\n",
    "        plotData = [ data[:,i] for i in range(np.shape(data)[1]) ]    \n",
    "    if ax is None :\n",
    "        plt.boxplot( plotData, showfliers = outliers )\n",
    "        if title is not None :\n",
    "            plt.title(title)\n",
    "        plt.show()\n",
    "    if ax is not None :\n",
    "        ax.boxplot( plotData, showfliers = outliers )\n",
    "        if title is not None :\n",
    "            ax.set_title(title)\n",
    "\n",
    "def parseAvocadoLocus ( chr, start, end, resolution = 'highmid', process = None, process_res = None, datapath = '/net/noble/vol2/home/gurkan/proj/2018locus_selection/Data/nn_avocado/raw/' ) :\n",
    "    data = np.load(datapath+'genome_'+chr+'.npy')\n",
    "    data_res = chooseResolution(data,resolution)\n",
    "\n",
    "    #GET THE FACTORS at LOCUS OF INTEREST (MYC)\n",
    "    startI = int(start / 25); endI = int(end / 25); \n",
    "    data_locus = data_res[np.arange(startI,endI),:]\n",
    "    \n",
    "    if process is not None and process_res is not None and process is 'average' :\n",
    "        data_locus = np.transpose(averageMatrix(np.transpose(data_locus),25,process_res))\n",
    "    if process is not None and process_res is not None and process is 'min' :\n",
    "        data_locus = np.transpose(minMatrix(np.transpose(data_locus),25,process_res))\n",
    "    return(data_locus)\n",
    "\n",
    "def generateLocusWindows ( chr, start, end, resolution ) :\n",
    "    windows = generateWindows([chr],resolution)\n",
    "    startI = int(start / resolution); endI = int(end / resolution); \n",
    "    locus_windows = windows[np.arange(startI,endI)]\n",
    "    locus_windows.dtype.names = ['f0','f1','f2']\n",
    "    return (locus_windows)\n",
    "\n",
    "def makeHistoneChIPMatrix (data, arcsinhFlag = True) :\n",
    "    if arcsinhFlag : \n",
    "        data_list = [ np.arcsinh( data[fieldname] ) for fieldname in data.dtype.names[1:]]    \n",
    "    else :\n",
    "        data_list = [ data[fieldname] for fieldname in data.dtype.names[1:]]\n",
    "    data_matrix = np.transpose(np.vstack(data_list))\n",
    "    return(data_matrix)\n",
    "\n",
    "def makeBed ( labels ) :\n",
    "    chrNames = np.array ([ (coords.decode()).split('_')[0] for coords in labels ] )\n",
    "    starts = np.array ([ int((coords.decode()).split('_')[1]) for coords in labels ] )\n",
    "    ends = np.array ([ int((coords.decode()).split('_')[2]) for coords in labels ] )\n",
    "    \n",
    "    table = np.zeros(len(chrNames), dtype={'names':('f0', 'f1', 'f2'),'formats':('S5', 'i4', 'i4')})\n",
    "    table['f0'] = chrNames; table['f1'] = starts+1; table['f2'] = ends;\n",
    "    return(table)\n",
    "    \n",
    "def selectSubset ( data_matrix, n = None, distance = 'euclidean', initial_subset = None, selection_subset = None ) :\n",
    "    if selection_subset is not None :\n",
    "        data_matrix = data_matrix[selection_subset]\n",
    "    \n",
    "    if n is None :\n",
    "        n = np.shape(data_matrix)[0]\n",
    "    \n",
    "    if initial_subset is None :\n",
    "        model = FacilityLocationSelection(n, distance)\n",
    "    else :\n",
    "        model = FacilityLocationSelection(n, distance, initial_subset = initial_subset )\n",
    "    \n",
    "    Xi = model.fit_transform(data_matrix)\n",
    "    SubsetInd = model.ranking\n",
    "    Gains = model.gains\n",
    "    \n",
    "    if selection_subset is not None :\n",
    "        SubsetInd = selection_subset[SubsetInd]\n",
    "    \n",
    "    return SubsetInd, Gains\n",
    "\n",
    "def makeSegwayAnnotation ( loci_windows, segway_anno) :\n",
    "    I1,I2,L1 = intersectBeds(loci_windows,segway_anno)\n",
    "\n",
    "    if len(I1) == len(loci_windows) : \n",
    "        segway_labels = segway_anno['f3'][I2]\n",
    "    else :\n",
    "        segway_labels = np.repeat('0_Undetermined',len(loci_windows))\n",
    "        segway_labels[I1] = segway_anno['f3'][I2]\n",
    "\n",
    "    segway_labels = [ label.split('_')[1] for label in segway_labels ]\n",
    "    segway_labels = np.array(segway_labels)\n",
    "    unique_labels = np.unique(segway_labels)\n",
    "    label_dict = {}\n",
    "    for i in range(len(unique_labels)) :\n",
    "        label_dict[unique_labels[i]] = i+1\n",
    "    segway_num_labels = [ label_dict[label] for label in segway_labels ]\n",
    "    \n",
    "    return (segway_num_labels, label_dict)\n",
    "\n",
    "\n",
    "def makeccREAnnotation ( loci_windows, ccREs ) :\n",
    "    I1,I2,L1 = intersectBeds(loci_windows,ccREs)\n",
    "\n",
    "    ccRE_num_labels = np.zeros(len(loci_windows))\n",
    "    ccRE_num_labels[I1] = 1\n",
    "    \n",
    "    label_dict = { 'ccRE' : 1, 'All' : 0 }\n",
    "    return (ccRE_num_labels, label_dict)\n",
    "\n",
    "def makeSubsetAnnotation ( subsetInd, subsetSize = None, k = 100 ) :\n",
    "    if subsetSize is None :\n",
    "        subsetSize = len(subsetInd)\n",
    "    subset_num_labels = np.zeros(subsetSize)\n",
    "    subset_num_labels[subsetInd[0:k]] = 1\n",
    "    \n",
    "    label_dict = { 'Subset' : 1, 'All' : 0 }\n",
    "    return (subset_num_labels, label_dict)\n",
    "\n",
    "def makeGeneralAnnotation ( Ind_list, label_list, k ) :\n",
    "    num_labels = np.zeros(k)\n",
    "    \n",
    "    label_dict = { 'All' : 0 }\n",
    "    for i in range(len(Ind_list)) :\n",
    "        num_labels[Ind_list[i]] = i + 1\n",
    "        label_dict[label_list[i]] = i + 1\n",
    "    return (num_labels, label_dict)"
   ]
  },
  {
   "cell_type": "code",
   "execution_count": 3,
   "metadata": {},
   "outputs": [],
   "source": [
    "def performEmbeddings ( data_list, n_components=2, random_state=2, metric= 'correlation', n_neighbors=15 ) :\n",
    "    embedding_list = []; \n",
    "    for data in data_list :\n",
    "        embedding_list.append( umap_transform(data, n_components=2, random_state=2, \n",
    "                                              n_neighbors=n_neighbors, metric=distanceMeasure)\n",
    "                             )\n",
    "    return (embedding_list)"
   ]
  },
  {
   "cell_type": "code",
   "execution_count": 4,
   "metadata": {},
   "outputs": [],
   "source": [
    "lociList = [ [ 'BCL11A', 'chr2', 59780500, 61780750 ], \n",
    "#['GATA1', 'chrX', 47644750, 49645000 ],\n",
    "['HBA2', 'chr16', 60000, 1223000 ],\n",
    "['HBE1', 'chr11', 4526750, 6527000 ],\n",
    "['LMO2', 'chr11', 32891250, 34891500 ],\n",
    "['MYC', 'chr8', 127748250, 129748500 ],\n",
    "['RBM38', 'chr20', 54966250, 56966500 ] ]\n",
    "\n",
    "avocado_gene_names = [ 'BCL11A',  'HBA2', 'HBE1', 'LMO2', 'MYC', 'RBM38' ]"
   ]
  },
  {
   "cell_type": "code",
   "execution_count": 5,
   "metadata": {},
   "outputs": [
    {
     "name": "stderr",
     "output_type": "stream",
     "text": [
      "/opt/anaconda3/lib/python3.7/site-packages/ipykernel_launcher.py:2: VisibleDeprecationWarning: Reading unicode strings without specifying the encoding argument is deprecated. Set the encoding, use None for the system default.\n",
      "  \n"
     ]
    }
   ],
   "source": [
    "datapath='/data/locusselect/k562_histone_marks/'\n",
    "histone_data = np.genfromtxt(datapath+'K562.binsize_250.mean.in_loci_of_interest.txt',dtype=None,skip_header=1)\n",
    "markNames = [ 'H2AFZ-human','H3K27ac-human','H3K27me3-human','H3K36me3-human','H3K4me1-human','H3K4me2-human',\n",
    "             'H3K4me3-human','H3K79me2-human' ,'H3K9ac-human','H3K9me3-human' ]\n",
    "\n",
    "locus_names = np.array ([ (coords.decode()).split('_')[-1] for coords in histone_data['f0'] ] )\n",
    "histone_gene_names, loci_counts = np.unique(locus_names,return_counts=True)\n",
    "bed = makeBed (histone_data['f0'])\n",
    "#DROP GATA\n",
    "histone_gene_names = histone_gene_names[[0,2,3,4,5,6]]"
   ]
  },
  {
   "cell_type": "code",
   "execution_count": 6,
   "metadata": {},
   "outputs": [],
   "source": [
    "histone_data_list = []; histone_rawdata_list = []; histone_bed_list = []\n",
    "for gene_name in histone_gene_names :\n",
    "    Ind = np.where(locus_names==gene_name)[0]\n",
    "    thisMatrix = makeHistoneChIPMatrix(histone_data[Ind],False);\n",
    "    \n",
    "    #FILTER OUT WINDOWS WITH NON-UNIQUE SCORES\n",
    "    rs = np.sum(thisMatrix,1); urs, urscount = np.unique(rs,return_counts=True)\n",
    "    filterInd = np.array([])\n",
    "    for thisurs in urs[urscount > 1]:\n",
    "        filterInd = np.append(filterInd,np.where(rs==thisurs)[0])\n",
    "    filterInd = Ind[filterInd.astype(int)]\n",
    "    Ind = np.setdiff1d(Ind,filterInd)\n",
    "    \n",
    "    histone_data_list.append(makeHistoneChIPMatrix(histone_data[Ind],True))\n",
    "    histone_rawdata_list.append(makeHistoneChIPMatrix(histone_data[Ind],False))\n",
    "    histone_bed_list.append(bed[Ind])"
   ]
  },
  {
   "cell_type": "code",
   "execution_count": 7,
   "metadata": {},
   "outputs": [],
   "source": [
    "distanceMeasure = 'correlation'\n",
    "histone_embedding_list = performEmbeddings(histone_data_list,metric=distanceMeasure); "
   ]
  },
  {
   "cell_type": "code",
   "execution_count": 8,
   "metadata": {},
   "outputs": [
    {
     "data": {
      "text/plain": [
       "((7534, 10), (7534, 10), (7534,))"
      ]
     },
     "execution_count": 8,
     "metadata": {},
     "output_type": "execute_result"
    }
   ],
   "source": [
    "histone_data_list[0].shape, histone_rawdata_list[0].shape, histone_bed_list[0].shape"
   ]
  },
  {
   "cell_type": "code",
   "execution_count": 9,
   "metadata": {},
   "outputs": [],
   "source": [
    "groseq = \"/data/locusselect/k562_annotations/hg19.k562.pair.div.bed\"\n",
    "gropeaks = pd.read_csv(\"positive_gropeak.bed\", sep='\\t', header=None)\n"
   ]
  },
  {
   "cell_type": "code",
   "execution_count": 10,
   "metadata": {},
   "outputs": [
    {
     "name": "stdout",
     "output_type": "stream",
     "text": [
      "243 42776\n"
     ]
    }
   ],
   "source": [
    "def get_labels(bed_list):\n",
    "    labels_list = []\n",
    "    count = 0\n",
    "    total = 0\n",
    "    overlap_list = []\n",
    "    for coordlist in bed_list:\n",
    "        labels = []\n",
    "        overlaps = []\n",
    "        for coord in coordlist:\n",
    "            bin0 = (coord[0].decode(\"utf8\"), int(coord[1]), int(coord[2]))\n",
    "            olstart = gropeaks[(gropeaks[0]==bin0[0]) & (bin0[1]>gropeaks[1]) & (bin0[1]<gropeaks[2])] #start is not inside\n",
    "            olend = gropeaks[(gropeaks[0]==bin0[0]) & (bin0[2]>gropeaks[1]) & (bin0[2]<gropeaks[2])] #end in not inside\n",
    "            if(olstart.shape[0]==0 and olend.shape[0]==0):\n",
    "                overlap = 0\n",
    "            elif(olstart.shape[0]==0 and olend.shape[0]!=0):\n",
    "                #print(\"only end is inside\")\n",
    "                overlap = max(bin0[2] - olend.loc[:,1].values)/250.0\n",
    "            elif(olstart.shape[0]!=0 and olend.shape[0]==0):\n",
    "                #print(\"only start is inside\")\n",
    "                overlap = max(olstart.loc[:,2].values - bin0[1]+1)/250.0 \n",
    "            elif(olstart.shape[0]!=0 and olend.shape[0]!=0):\n",
    "                overlap = 1.0\n",
    "            if(overlap>0.1):\n",
    "                label=1\n",
    "                count = count+1\n",
    "            else:\n",
    "                label=0\n",
    "            total = total+1\n",
    "            labels.append(label)\n",
    "            overlaps.append(overlap)\n",
    "        labels_list.append(labels)\n",
    "        overlap_list.append(overlaps)\n",
    "            #bin0 = pybedtools.create_interval_from_list([coord[0].decode(\"utf8\"), int(coord[1]), int(coord[2])])\n",
    "    print(count, total)\n",
    "    return labels_list, overlap_list\n",
    "labels_list, overlap_list = get_labels(histone_bed_list)"
   ]
  },
  {
   "cell_type": "code",
   "execution_count": 12,
   "metadata": {},
   "outputs": [],
   "source": [
    "def split_data(data_list, labels_list):\n",
    "    train_data_list = []\n",
    "    test_data_list = []\n",
    "    train_labels_list = []\n",
    "    test_labels_list = []\n",
    "    imbalance_in_train = []\n",
    "    imbalance_in_test = []\n",
    "    for i in range(len(data_list)):\n",
    "        #print(i)\n",
    "        data = data_list[i]\n",
    "        labels = np.expand_dims(np.array(labels_list[i]), axis=1)\n",
    "        \n",
    "        train_size = int(data.shape[0]*0.7)\n",
    "        train_data = data[:train_size]\n",
    "        test_data = data[train_size:]\n",
    "        train_data_list.append(train_data)\n",
    "        test_data_list.append(test_data)\n",
    "        \n",
    "        train_labels = labels[:train_size]\n",
    "        test_labels = labels[train_size:]\n",
    "        train_labels_list.append(train_labels)\n",
    "        test_labels_list.append(test_labels)\n",
    "        \n",
    "        npos = np.sum(np.array(train_labels)>0)\n",
    "        nneg = len(train_labels) - npos\n",
    "        imbalance_in_train.append(1.0*npos/(npos+nneg))\n",
    "        \n",
    "        npos = np.sum(np.array(test_labels)>0)\n",
    "        nneg = len(test_labels) - npos\n",
    "        imbalance_in_test.append(1.0*npos/(npos+nneg))\n",
    "\n",
    "    splited_data = {'train': train_data_list, 'test': test_data_list}\n",
    "    splited_labels = {'train': train_labels_list, 'test': test_labels_list}\n",
    "    splited_imbalances = {'train': imbalance_in_train, 'test': imbalance_in_test}\n",
    "    return splited_data, splited_labels, splited_imbalances\n",
    "\n",
    "histone_splited_list, splited_labels, splited_imbalance = split_data(histone_data_list, labels_list)\n",
    "raw_splited_list, raw_splited_labels, raw_splited_imbalance = split_data(histone_rawdata_list, labels_list)\n",
    "embedded_splited_list, embedded_labels, embedded_imbalance = split_data(histone_embedding_list, labels_list)\n",
    "#raw_splited_list, raw_splited_labels, raw_splited_imbalance = split_data(raw_data_list, labels_list)"
   ]
  },
  {
   "cell_type": "code",
   "execution_count": 17,
   "metadata": {},
   "outputs": [],
   "source": [
    "histone_SSIndex_list = []\n",
    "for data in histone_splited_list['train'] :\n",
    "    N = np.shape(data)[0]\n",
    "    SubsetInds,gains = selectSubset( data, n = N, distance = 'corr' )\n",
    "    histone_SSIndex_list.append(SubsetInds)"
   ]
  },
  {
   "cell_type": "code",
   "execution_count": 24,
   "metadata": {},
   "outputs": [
    {
     "name": "stdout",
     "output_type": "stream",
     "text": [
      "(12836, 11)\n",
      "(29940, 11)\n"
     ]
    }
   ],
   "source": [
    "def merge_data_labels(data_list, labels_list):\n",
    "    \n",
    "    total_data = None\n",
    "    \n",
    "    for i in range(len(data_list)):\n",
    "        x = data_list[i]\n",
    "        y = labels_list[i]\n",
    "        \n",
    "        data = np.hstack((y,x))\n",
    "        if(total_data is None):\n",
    "            total_data = data\n",
    "        else:\n",
    "            total_data = np.vstack((total_data, data))\n",
    "\n",
    "    print(total_data.shape)\n",
    "    \n",
    "    return total_data\n",
    "\n",
    "histone_test_data = merge_data_labels(histone_splited_list['test'], splited_labels['test'])\n",
    "histone_train_data = merge_data_labels(histone_splited_list['train'], splited_labels['train'])\n",
    "\n",
    "##\n",
    "#rawhistone_test_data = merge_data_labels(histone_rawdata_list['test'], splited_labels['test'])\n",
    "#rawhistone_train_data = merge_data_labels(histone_rawdata_list['train'], splited_labels['train'])\n",
    "#embeddedhistone_test_data = merge_data_labels(histone_embedding_list['test'], splited_labels['test'])\n",
    "#embeddedhistone_train_data = merge_data_labels(histone_embedding_list['train'], splited_labels['train'])"
   ]
  },
  {
   "cell_type": "code",
   "execution_count": 74,
   "metadata": {},
   "outputs": [
    {
     "name": "stdout",
     "output_type": "stream",
     "text": [
      "(6000, 11)\n",
      "(6000, 11)\n",
      "(6600, 11)\n",
      "(6600, 11)\n",
      "(7200, 11)\n",
      "(7200, 11)\n",
      "(7800, 11)\n",
      "(7800, 11)\n",
      "(8400, 11)\n",
      "(8400, 11)\n",
      "(9000, 11)\n",
      "(9000, 11)\n",
      "(9600, 11)\n",
      "(9600, 11)\n",
      "(10200, 11)\n",
      "(10200, 11)\n",
      "(10800, 11)\n",
      "(10800, 11)\n",
      "(11400, 11)\n",
      "(11400, 11)\n",
      "(12000, 11)\n",
      "(12000, 11)\n"
     ]
    }
   ],
   "source": [
    "\n",
    "def sample_merge_data_labels(data_list, labels_list, histone_SSIndex_list=None, ss_size=None):\n",
    "    total_data = None\n",
    "    for i in range(len(data_list)):\n",
    "        #print(i)\n",
    "        x = data_list[i]\n",
    "        y = labels_list[i]\n",
    "        if(ss_size is not None):\n",
    "            if(histone_SSIndex_list is None):\n",
    "                SSIndex = np.random.choice(x.shape[0], ss_size)\n",
    "            else:\n",
    "                SSIndex = histone_SSIndex_list[i]\n",
    "            x = x[SSIndex[0:ss_size]]\n",
    "            y = y[SSIndex[0:ss_size]]\n",
    "        \n",
    "        data = np.hstack((y, x))\n",
    "        if(total_data is None):\n",
    "            total_data = data\n",
    "        else:\n",
    "            total_data = np.vstack((total_data, data))\n",
    "\n",
    "\n",
    "    print(total_data.shape)\n",
    "    \n",
    "    return total_data\n",
    "\n",
    "\n",
    "ss_sizes = range(1000, 2001, 100)\n",
    "histone_train_data_selected_list = []\n",
    "histone_train_data_random_list = []\n",
    "for ss_size in ss_sizes:\n",
    "    #print(ss_size)\n",
    "    histone_train_data_selected_list.append(sample_merge_data_labels(histone_splited_list['train'], \n",
    "                                                           splited_labels['train'],\n",
    "                                                 histone_SSIndex_list, ss_size=ss_size))\n",
    "    histone_train_data_random_list.append(sample_merge_data_labels(histone_splited_list['train'], \n",
    "                                                           splited_labels['train'],\n",
    "                                                 None, ss_size=ss_size))\n",
    "    \n",
    "# histone_train_data_1k = sample_merge_data_labels(histone_splited_list['train'], splited_labels['train'],\n",
    "#                                                 histone_SSIndex_list, ss_size=1000)\n",
    "# histone_train_data_1_3k = sample_merge_data_labels(histone_splited_list['train'], splited_labels['train'],\n",
    "#                                                 histone_SSIndex_list, ss_size=1300)\n",
    "# histone_train_data_1_5k = sample_merge_data_labels(histone_splited_list['train'], splited_labels['train'],\n",
    "#                                                 histone_SSIndex_list, ss_size=1500)\n",
    "\n",
    "# histone_train_data_1_6k = sample_merge_data_labels(histone_splited_list['train'], splited_labels['train'],\n",
    "#                                                 histone_SSIndex_list, ss_size=1600)\n",
    "# histone_train_data_1_7k = sample_merge_data_labels(histone_splited_list['train'], splited_labels['train'],\n",
    "#                                                 histone_SSIndex_list, ss_size=1700)\n",
    "# histone_train_data_1_8k = sample_merge_data_labels(histone_splited_list['train'], splited_labels['train'],\n",
    "#                                                 histone_SSIndex_list, ss_size=1800)\n",
    "# histone_train_data_1_9k = sample_merge_data_labels(histone_splited_list['train'], splited_labels['train'],\n",
    "#                                                 histone_SSIndex_list, ss_size=1900)\n",
    "\n",
    "# histone_train_data_2k = sample_merge_data_labels(histone_splited_list['train'], splited_labels['train'],\n",
    "#                                                 histone_SSIndex_list, ss_size=2000)\n",
    "\n",
    "# histone_train_data_1k_rand = sample_merge_data_labels(histone_splited_list['train'], splited_labels['train'],\n",
    "#                                                 None, ss_size=1000)\n",
    "# histone_train_data_1_5k_rand = sample_merge_data_labels(histone_splited_list['train'], splited_labels['train'],\n",
    "#                                                 None, ss_size=1500)\n",
    "# histone_train_data_2k_rand = sample_merge_data_labels(histone_splited_list['train'], splited_labels['train'],\n",
    "#                                                 None, ss_size=2000)\n"
   ]
  },
  {
   "cell_type": "code",
   "execution_count": 75,
   "metadata": {},
   "outputs": [],
   "source": [
    "import matplotlib.pyplot as plt\n",
    "from sklearn.linear_model import LogisticRegression\n",
    "from sklearn.metrics import average_precision_score\n",
    "from sklearn.metrics import precision_recall_curve, auc\n",
    "def make_prediction(train_data, test_data, header=\"\", plot=True):\n",
    "    \n",
    "    model = LogisticRegression(random_state=0, solver='lbfgs', multi_class='multinomial')#.fit(X, y)\n",
    "    model.fit(train_data[:, 1:], train_data[:, 0]) #1st column is label\n",
    "    predicted_classes = model.predict(test_data[:, 1:]) #1st column is label\n",
    "    \n",
    "    average_precision = average_precision_score(test_data[:, 0], predicted_classes)\n",
    "    precision, recall, _ = precision_recall_curve(test_data[:, 0], predicted_classes)\n",
    "    area = auc(recall, precision)\n",
    "    if(plot):\n",
    "        plt.step(recall, precision, color='b', alpha=0.2,\n",
    "                 where='post')\n",
    "        # step_kwargs = ({'step': 'post'}\n",
    "        #                if 'step' in signature(plt.fill_between).parameters\n",
    "        #                else {})\n",
    "        plt.fill_between(recall, precision, alpha=0.2, color='b')\n",
    "\n",
    "        plt.xlabel('Recall')\n",
    "        plt.ylabel('Precision')\n",
    "        plt.ylim([0.0, 1.05])\n",
    "        plt.xlim([0.0, 1.0])\n",
    "        plt.title('{0}\\nArea Under Precision-Recall curve: {1}'.format(header, round(area, 2)))\n",
    "    return area"
   ]
  },
  {
   "cell_type": "code",
   "execution_count": 76,
   "metadata": {},
   "outputs": [],
   "source": [
    "accumulated_auprcs_selected = []\n",
    "accumulated_auprcs_random = []\n",
    "accumulated_sizes = []\n",
    "for i in range(len(ss_sizes)):\n",
    "    histone_train_data_selected = histone_train_data_selected_list[i]\n",
    "    histone_train_data_random = histone_train_data_random_list[i]\n",
    "    \n",
    "    area_selected = make_prediction(histone_train_data_selected, histone_test_data, \"\", False)\n",
    "    accumulated_auprcs_selected.append(area_selected); \n",
    "    \n",
    "    area_random = make_prediction(histone_train_data_random, histone_test_data, \"\", False)\n",
    "    accumulated_auprcs_random.append(area_random); \n",
    "    \n",
    "    data_size = histone_train_data_selected.shape[0]\n",
    "    accumulated_sizes.append(data_size)"
   ]
  },
  {
   "cell_type": "code",
   "execution_count": 84,
   "metadata": {},
   "outputs": [
    {
     "data": {
      "text/plain": [
       "Text(0, 0.5, 'auPRC')"
      ]
     },
     "execution_count": 84,
     "metadata": {},
     "output_type": "execute_result"
    },
    {
     "data": {
      "image/png": "[encoded data removed]",
      "text/plain": [
       "<Figure size 432x288 with 1 Axes>"
      ]
     },
     "metadata": {
      "needs_background": "light"
     },
     "output_type": "display_data"
    }
   ],
   "source": [
    "import matplotlib.pyplot as plt\n",
    "import pandas as pd\n",
    "df=pd.DataFrame({'selected': accumulated_auprcs_selected, 'random': accumulated_auprcs_random, \n",
    "                 'data_size': accumulated_sizes })\n",
    "\n",
    "plt.plot( 'data_size', 'selected', data=df, markersize=10, linewidth=2, \n",
    "         marker='x', color='olive', label=\"submodular selection\")\n",
    "plt.plot( 'data_size', 'random', data=df, markersize=10, linewidth=2, \n",
    "         marker='o',  color='blue', label=\"random selection\")\n",
    "plt.legend()\n",
    "plt.xlabel(\"Size of training data\")\n",
    "plt.ylabel(\"auPRC\")\n",
    "#plt.title(\"Checking Optimal number of examples for training\")"
   ]
  },
  {
   "cell_type": "code",
   "execution_count": 39,
   "metadata": {},
   "outputs": [
    {
     "data": {
      "text/plain": [
       "0.21457216046652008"
      ]
     },
     "execution_count": 39,
     "metadata": {},
     "output_type": "execute_result"
    },
    {
     "data": {
      "image/png": "[encoded data removed]",
      "text/plain": [
       "<Figure size 432x288 with 1 Axes>"
      ]
     },
     "metadata": {
      "needs_background": "light"
     },
     "output_type": "display_data"
    }
   ],
   "source": [
    "\n",
    "make_prediction(histone_train_data, histone_test_data, \"histone, no sampling, ~30k examples\")"
   ]
  },
  {
   "cell_type": "code",
   "execution_count": 40,
   "metadata": {},
   "outputs": [
    {
     "data": {
      "text/plain": [
       "0.20320852410288373"
      ]
     },
     "execution_count": 40,
     "metadata": {},
     "output_type": "execute_result"
    },
    {
     "data": {
      "image/png": "[encoded data removed]",
      "text/plain": [
       "<Figure size 432x288 with 1 Axes>"
      ]
     },
     "metadata": {
      "needs_background": "light"
     },
     "output_type": "display_data"
    }
   ],
   "source": [
    "area = make_prediction(histone_train_data_1k, histone_test_data, \"histone, submodular selection, 6k examples\")"
   ]
  },
  {
   "cell_type": "code",
   "execution_count": 41,
   "metadata": {},
   "outputs": [
    {
     "data": {
      "text/plain": [
       "0.2571782037298943"
      ]
     },
     "execution_count": 41,
     "metadata": {},
     "output_type": "execute_result"
    },
    {
     "data": {
      "image/png": "[encoded data removed]",
      "text/plain": [
       "<Figure size 432x288 with 1 Axes>"
      ]
     },
     "metadata": {
      "needs_background": "light"
     },
     "output_type": "display_data"
    }
   ],
   "source": [
    "area = make_prediction(histone_train_data_1_5k, histone_test_data, \"histone, submodular selection, 9k examples\")"
   ]
  },
  {
   "cell_type": "code",
   "execution_count": 58,
   "metadata": {},
   "outputs": [
    {
     "data": {
      "text/plain": [
       "0.25191979200237224"
      ]
     },
     "execution_count": 58,
     "metadata": {},
     "output_type": "execute_result"
    },
    {
     "data": {
      "image/png": "[encoded data removed]",
      "text/plain": [
       "<Figure size 432x288 with 1 Axes>"
      ]
     },
     "metadata": {
      "needs_background": "light"
     },
     "output_type": "display_data"
    }
   ],
   "source": [
    "area = make_prediction(histone_train_data_2k, histone_test_data, \"histone, submodular selection, 12k examples\")"
   ]
  },
  {
   "cell_type": "code",
   "execution_count": 43,
   "metadata": {},
   "outputs": [
    {
     "data": {
      "text/plain": [
       "0.18165679996495268"
      ]
     },
     "execution_count": 43,
     "metadata": {},
     "output_type": "execute_result"
    },
    {
     "data": {
      "image/png": "[encoded data removed]",
      "text/plain": [
       "<Figure size 432x288 with 1 Axes>"
      ]
     },
     "metadata": {
      "needs_background": "light"
     },
     "output_type": "display_data"
    }
   ],
   "source": [
    "area = make_prediction(histone_train_data_1k_rand, histone_test_data, \"histone, random sampling 6k examples\")"
   ]
  },
  {
   "cell_type": "code",
   "execution_count": 44,
   "metadata": {},
   "outputs": [
    {
     "data": {
      "text/plain": [
       "0.13264540435154332"
      ]
     },
     "execution_count": 44,
     "metadata": {},
     "output_type": "execute_result"
    },
    {
     "data": {
      "image/png": "[encoded data removed]",
      "text/plain": [
       "<Figure size 432x288 with 1 Axes>"
      ]
     },
     "metadata": {
      "needs_background": "light"
     },
     "output_type": "display_data"
    }
   ],
   "source": [
    "area = make_prediction(histone_train_data_1_5k_rand, histone_test_data, \"histone, random sampling, 9k examples\")"
   ]
  },
  {
   "cell_type": "code",
   "execution_count": 45,
   "metadata": {},
   "outputs": [
    {
     "data": {
      "text/plain": [
       "0.17412261640112656"
      ]
     },
     "execution_count": 45,
     "metadata": {},
     "output_type": "execute_result"
    },
    {
     "data": {
      "image/png": "[encoded data removed]",
      "text/plain": [
       "<Figure size 432x288 with 1 Axes>"
      ]
     },
     "metadata": {
      "needs_background": "light"
     },
     "output_type": "display_data"
    }
   ],
   "source": [
    "area = make_prediction(histone_train_data_2k_rand, histone_test_data, \"histone, random sampling, 12k examples\")"
   ]
  },
  {
   "cell_type": "code",
   "execution_count": null,
   "metadata": {},
   "outputs": [],
   "source": []
  }
 ],
 "metadata": {
  "kernelspec": {
   "display_name": "Python 3",
   "language": "python",
   "name": "python3"
  },
  "language_info": {
   "codemirror_mode": {
    "name": "ipython",
    "version": 3
   },
   "file_extension": ".py",
   "mimetype": "text/x-python",
   "name": "python",
   "nbconvert_exporter": "python",
   "pygments_lexer": "ipython3",
   "version": "3.7.3"
  }
 },
 "nbformat": 4,
 "nbformat_minor": 2
}
