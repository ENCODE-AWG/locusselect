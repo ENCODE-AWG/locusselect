{
 "cells": [
  {
   "cell_type": "code",
   "execution_count": 1,
   "metadata": {},
   "outputs": [],
   "source": [
    "import numpy as np\n",
    "from sklearn import manifold\n",
    "from apricot import FacilityLocationSelection\n",
    "from apricot import FeatureBasedSelection\n",
    "import matplotlib\n",
    "from matplotlib import pyplot as plt\n",
    "from mpl_toolkits.mplot3d import Axes3D\n",
    "from matplotlib import cm\n",
    "import umap\n",
    "from sklearn.manifold import TSNE"
   ]
  },
  {
   "cell_type": "code",
   "execution_count": 2,
   "metadata": {},
   "outputs": [],
   "source": [
    "def getChrLen ( chr = 'chr1', assembly = 'hg19' ):\n",
    "    chrsizes = np.loadtxt('/data/locusselect/' + assembly + '.chromsizes.txt',dtype={'names': ('chr','len'),'formats':('S6','i4')} )\n",
    "    #print (chrsizes)\n",
    "    for i in range(len(chrsizes)):\n",
    "        if ( chrsizes[i][0].decode() == chr ):\n",
    "            return (chrsizes[i][1] )\n",
    "        \n",
    "def generateWindows (chrs,res) :\n",
    "        for chr in chrs:\n",
    "                chrLen = getChrLen(chr)\n",
    "                L = int(np.ceil(float(chrLen) / res ))\n",
    "                starts = np.arange(0,L*res,res)\n",
    "                ends = np.arange(res,(L+1)*res,res);    ends[-1] = chrLen\n",
    "                chrNames = np.repeat(np.array([chr]),L)\n",
    "\n",
    "        table = np.zeros(int(L), dtype={'names':('chr', 'start', 'end'),'formats':('S5', 'i4', 'i4')})\n",
    "        table['chr'] = chrNames; table['start'] = starts+1; table['end'] = ends;\n",
    "        return(table)\n",
    "\n",
    "def averageMatrix(m, startRes=25, endRes=1000) :\n",
    "        if endRes % startRes != 0 :\n",
    "                print (\"resolutions problematic, find a divisible one\")\n",
    "                return -1\n",
    "        k = endRes / startRes\n",
    "        (y,x) = np.shape(m)\n",
    "        \n",
    "        sliceSeq = np.arange(0,x,k)\n",
    "        \n",
    "        averagedM = np.zeros((y,int(np.ceil( x/float(k)))) )\n",
    "        \n",
    "        for i in range(len(sliceSeq)-1) :\n",
    "                averagedM[:,i] = np.average(m[:,int(sliceSeq[i]):int(sliceSeq[i+1])],axis=1)\n",
    "\n",
    "        averagedM[:,-1] = np.average(m[:,int(sliceSeq[-1]):x],axis=1)\n",
    "\n",
    "        return (averagedM)\n",
    "\n",
    "def chooseResolution (p, resolution='all') :\n",
    "    if resolution == 'all' :\n",
    "        p = p\n",
    "    if resolution == 'high' :\n",
    "        p = p[:,0:25]\n",
    "    if resolution == 'mid' :\n",
    "        p = p[:,25:65]\n",
    "    if resolution == 'highmid' :\n",
    "        p = p[:,0:65]\n",
    "    if resolution == 'low' :\n",
    "        p = p[:,65:110]\n",
    "    return p\n",
    "    \n",
    "def umap_transform(peak_data, n_components=3, random_state=25, metric = 'correlation',n_neighbors=15,min_dist=0.1):\n",
    "    umap_obj = umap.UMAP(n_components=n_components, random_state=random_state,\n",
    "        min_dist=min_dist,metric=metric,n_neighbors=n_neighbors)\n",
    "    try:\n",
    "        umap_res = umap_obj.fit_transform(peak_data.toarray())\n",
    "    except:\n",
    "        umap_res = umap_obj.fit_transform(peak_data)\n",
    "    return umap_res\n",
    "    \n",
    "def intersectBeds ( bed1, bed2, pickLargestOverlap = True ) :\n",
    "    chrs1 = np.unique(bed1['f0']);  chrs2 = np.unique(bed2['f0'])\n",
    "    allchrs = np.intersect1d(chrs1,chrs2)\n",
    "    overlapInd1 = []; overlapInd2 = []; overlapLen = []\n",
    "    for chr in allchrs :\n",
    "        Ind1 = np.where(bed1['f0']==chr)[0];    Ind2 = np.where(bed2['f0']==chr)[0]\n",
    "        midPoint1 = ( bed1['f2'][Ind1] + bed1['f1'][Ind1] ) / 2\n",
    "        midPoint2 = ( bed2['f2'][Ind2] + bed2['f1'][Ind2] ) / 2\n",
    "        int1 = bed1['f2'][Ind1] - bed1['f1'][Ind1] + 1\n",
    "        int2 = bed2['f2'][Ind2] - bed2['f1'][Ind2] + 1\n",
    "        maxInt = 2 * np.max(np.append(int1,int2))\n",
    "        for I in range(len(Ind1)) :\n",
    "            dist = np.abs( midPoint1[I] - midPoint2 )\n",
    "            closeInd = Ind2[ np.where( dist < maxInt )[0] ]\n",
    "            if len(closeInd) > 0 :\n",
    "                for I2 in closeInd :\n",
    "                    maxStart = max(bed1[Ind1[I]][1], bed2[I2][1])\n",
    "                    minEnd = min(bed1[Ind1[I]][2], bed2[I2][2])\n",
    "                    if maxStart < minEnd:\n",
    "                        overlapInd1.append(Ind1[I])\n",
    "                        overlapInd2.append(I2)\n",
    "                        overlapLen.append(minEnd-maxStart)\n",
    "                        \n",
    "    overlapInd1 = np.array(overlapInd1); overlapInd2 = np.array(overlapInd2); overlapLen = np.array(overlapLen)\n",
    "    \n",
    "    uniqueOverlapInd1 = []; uniqueOverlapInd2 = []; uniqueOverlapLen = []\n",
    "    if pickLargestOverlap == True :\n",
    "        uniqueOI1 = np.unique(overlapInd1)\n",
    "        for uI in uniqueOI1 :\n",
    "            Ind = np.where(overlapInd1==uI)[0]\n",
    "            Ord = np.argsort(overlapLen[Ind])\n",
    "            uniqueOverlapInd1.append(uI); uniqueOverlapInd2.append(overlapInd2[Ind[Ord[-1]]]);\n",
    "            uniqueOverlapLen.append(overlapLen[Ind[Ord[-1]]])\n",
    "    \n",
    "    uniqueOverlapInd1 = np.array(uniqueOverlapInd1); uniqueOverlapInd2 = np.array(uniqueOverlapInd2)\n",
    "    uniqueOverlapLen = np.array(uniqueOverlapLen)\n",
    "    \n",
    "    return (uniqueOverlapInd1,uniqueOverlapInd2,uniqueOverlapLen)\n",
    "\n",
    "def plot_embedding_3d(embedding, num_labels, label_dict, cmap=None):\n",
    "    fig = plt.figure(figsize=(7,6))\n",
    "    ax = fig.add_subplot(111, projection='3d')\n",
    "    labels = np.unique(num_labels)\n",
    "    scatter_res = ax.scatter(embedding[:,0], embedding[:,1], embedding[:,2],\n",
    "     s=4, alpha=1,c=num_labels, cmap='jet')\n",
    "\n",
    "    legend_proxies = []; legend_labels = []\n",
    "    for label in label_dict.keys() :\n",
    "        legend_color = cm.jet(label_dict[label] / float(len(label_dict.keys()) - 1))\n",
    "        legend_proxies.append(matplotlib.lines.Line2D([0], [0], linestyle='none', c=legend_color, marker='o'))\n",
    "        legend_labels.append(label)\n",
    "    ax.legend(legend_proxies, legend_labels, numpoints=1, loc='upper left')#bbox_to_anchor=(1, 1))\n",
    "\n",
    "def plot_embedding_2d(embedding, num_labels=None, label_dict=None, s_dict=None, a_dict=None, cmap=None, norm=None, title='' ):\n",
    "    fig = plt.figure(figsize=(7,6))\n",
    "    ax = fig.add_subplot(111)\n",
    "    if num_labels is None or label_dict is None :\n",
    "        scatter_res = ax.scatter(embedding[:,0], embedding[:,1], s=4, alpha=1)\n",
    "\n",
    "    else :\n",
    "        for label in label_dict.keys() :\n",
    "            Ind = np.where(num_labels == label_dict[label])[0]\n",
    "            color = cm.jet(label_dict[label] / float(len(label_dict.keys()) - 1))\n",
    "            if s_dict is None : \n",
    "                dotsize = 4 \n",
    "            else : \n",
    "                dotsize = s_dict[label]\n",
    "            if a_dict is None : \n",
    "                alpha = 1\n",
    "            else : \n",
    "                alpha = a_dict[label]\n",
    "            scatter_res = ax.scatter(embedding[Ind,0], embedding[Ind,1], s=dotsize, alpha=alpha,c=color, label=label)\n",
    "        ax.set_xlim( min(embedding[:,0]) - ( ( max(embedding[:,0]) - min(embedding[:,0]) ) * 0.5 ), max(embedding[:,0]) )\n",
    "        ax.set_ylim( min(embedding[:,1]), max(embedding[:,1]) + ( ( max(embedding[:,1]) - min(embedding[:,1]) ) * 0.5 ) )\n",
    "        ax.set_title(title)\n",
    "        ax.legend(loc='upper left',prop={'size': 12})\n",
    "          \n",
    "def plotBox ( data, ax = None, arcsinhFlag = True, outliers = False, title = None ) :\n",
    "    if arcsinhFlag : \n",
    "        plotData = [ np.arcsinh( data[:,i] ) for i in range(np.shape(data)[1]) ]    \n",
    "    else :\n",
    "        plotData = [ data[:,i] for i in range(np.shape(data)[1]) ]    \n",
    "    if ax is None :\n",
    "        plt.boxplot( plotData, showfliers = outliers )\n",
    "        if title is not None :\n",
    "            plt.title(title)\n",
    "        plt.show()\n",
    "    if ax is not None :\n",
    "        ax.boxplot( plotData, showfliers = outliers )\n",
    "        if title is not None :\n",
    "            ax.set_title(title)\n",
    "\n",
    "def parseAvocadoLocus ( chr, start, end, resolution = 'highmid', process = None, process_res = None, datapath = '/net/noble/vol2/home/gurkan/proj/2018locus_selection/Data/nn_avocado/raw/' ) :\n",
    "    data = np.load(datapath+'genome_'+chr+'.npy')\n",
    "    data_res = chooseResolution(data,resolution)\n",
    "\n",
    "    #GET THE FACTORS at LOCUS OF INTEREST (MYC)\n",
    "    startI = int(start / 25); endI = int(end / 25); \n",
    "    data_locus = data_res[np.arange(startI,endI),:]\n",
    "    \n",
    "    if process is not None and process_res is not None and process is 'average' :\n",
    "        data_locus = np.transpose(averageMatrix(np.transpose(data_locus),25,process_res))\n",
    "    if process is not None and process_res is not None and process is 'min' :\n",
    "        data_locus = np.transpose(minMatrix(np.transpose(data_locus),25,process_res))\n",
    "    return(data_locus)\n",
    "\n",
    "def generateLocusWindows ( chr, start, end, resolution ) :\n",
    "    windows = generateWindows([chr],resolution)\n",
    "    startI = int(start / resolution); endI = int(end / resolution); \n",
    "    locus_windows = windows[np.arange(startI,endI)]\n",
    "    locus_windows.dtype.names = ['f0','f1','f2']\n",
    "    return (locus_windows)\n",
    "\n",
    "def makeHistoneChIPMatrix (data, arcsinhFlag = True) :\n",
    "    if arcsinhFlag : \n",
    "        data_list = [ np.arcsinh( data[fieldname] ) for fieldname in data.dtype.names[1:]]    \n",
    "    else :\n",
    "        data_list = [ data[fieldname] for fieldname in data.dtype.names[1:]]\n",
    "    data_matrix = np.transpose(np.vstack(data_list))\n",
    "    return(data_matrix)\n",
    "\n",
    "def makeBed ( labels ) :\n",
    "    chrNames = np.array ([ (coords.decode()).split('_')[0] for coords in labels ] )\n",
    "    starts = np.array ([ int((coords.decode()).split('_')[1]) for coords in labels ] )\n",
    "    ends = np.array ([ int((coords.decode()).split('_')[2]) for coords in labels ] )\n",
    "    \n",
    "    table = np.zeros(len(chrNames), dtype={'names':('f0', 'f1', 'f2'),'formats':('S5', 'i4', 'i4')})\n",
    "    table['f0'] = chrNames; table['f1'] = starts+1; table['f2'] = ends;\n",
    "    return(table)\n",
    "    \n",
    "def selectSubset ( data_matrix, n = None, distance = 'euclidean', initial_subset = None, selection_subset = None ) :\n",
    "    if selection_subset is not None :\n",
    "        data_matrix = data_matrix[selection_subset]\n",
    "    \n",
    "    if n is None :\n",
    "        n = np.shape(data_matrix)[0]\n",
    "    \n",
    "    if initial_subset is None :\n",
    "        model = FacilityLocationSelection(n, distance)\n",
    "    else :\n",
    "        model = FacilityLocationSelection(n, distance, initial_subset = initial_subset )\n",
    "    \n",
    "    Xi = model.fit_transform(data_matrix)\n",
    "    SubsetInd = model.ranking\n",
    "    Gains = model.gains\n",
    "    \n",
    "    if selection_subset is not None :\n",
    "        SubsetInd = selection_subset[SubsetInd]\n",
    "    \n",
    "    return SubsetInd, Gains\n",
    "\n",
    "def makeSegwayAnnotation ( loci_windows, segway_anno) :\n",
    "    I1,I2,L1 = intersectBeds(loci_windows,segway_anno)\n",
    "\n",
    "    if len(I1) == len(loci_windows) : \n",
    "        segway_labels = segway_anno['f3'][I2]\n",
    "    else :\n",
    "        segway_labels = np.repeat('0_Undetermined',len(loci_windows))\n",
    "        segway_labels[I1] = segway_anno['f3'][I2]\n",
    "\n",
    "    segway_labels = [ label.split('_')[1] for label in segway_labels ]\n",
    "    segway_labels = np.array(segway_labels)\n",
    "    unique_labels = np.unique(segway_labels)\n",
    "    label_dict = {}\n",
    "    for i in range(len(unique_labels)) :\n",
    "        label_dict[unique_labels[i]] = i+1\n",
    "    segway_num_labels = [ label_dict[label] for label in segway_labels ]\n",
    "    \n",
    "    return (segway_num_labels, label_dict)\n",
    "\n",
    "\n",
    "def makeccREAnnotation ( loci_windows, ccREs ) :\n",
    "    I1,I2,L1 = intersectBeds(loci_windows,ccREs)\n",
    "\n",
    "    ccRE_num_labels = np.zeros(len(loci_windows))\n",
    "    ccRE_num_labels[I1] = 1\n",
    "    \n",
    "    label_dict = { 'ccRE' : 1, 'All' : 0 }\n",
    "    return (ccRE_num_labels, label_dict)\n",
    "\n",
    "def makeSubsetAnnotation ( subsetInd, subsetSize = None, k = 100 ) :\n",
    "    if subsetSize is None :\n",
    "        subsetSize = len(subsetInd)\n",
    "    subset_num_labels = np.zeros(subsetSize)\n",
    "    subset_num_labels[subsetInd[0:k]] = 1\n",
    "    \n",
    "    label_dict = { 'Subset' : 1, 'All' : 0 }\n",
    "    return (subset_num_labels, label_dict)\n",
    "\n",
    "def makeGeneralAnnotation ( Ind_list, label_list, k ) :\n",
    "    num_labels = np.zeros(k)\n",
    "    \n",
    "    label_dict = { 'All' : 0 }\n",
    "    for i in range(len(Ind_list)) :\n",
    "        num_labels[Ind_list[i]] = i + 1\n",
    "        label_dict[label_list[i]] = i + 1\n",
    "    return (num_labels, label_dict)"
   ]
  },
  {
   "cell_type": "code",
   "execution_count": 3,
   "metadata": {},
   "outputs": [],
   "source": [
    "def performEmbeddings ( data_list, n_components=2, random_state=2, metric= 'correlation', n_neighbors=15 ) :\n",
    "    embedding_list = []; \n",
    "    for data in data_list :\n",
    "        embedding_list.append( umap_transform(data, n_components=2, random_state=2, \n",
    "                                              n_neighbors=n_neighbors, metric=distanceMeasure)\n",
    "                             )\n",
    "    return (embedding_list)"
   ]
  },
  {
   "cell_type": "code",
   "execution_count": 4,
   "metadata": {},
   "outputs": [],
   "source": [
    "lociList = [ [ 'BCL11A', 'chr2', 59780500, 61780750 ], \n",
    "#['GATA1', 'chrX', 47644750, 49645000 ],\n",
    "['HBA2', 'chr16', 60000, 1223000 ],\n",
    "['HBE1', 'chr11', 4526750, 6527000 ],\n",
    "['LMO2', 'chr11', 32891250, 34891500 ],\n",
    "['MYC', 'chr8', 127748250, 129748500 ],\n",
    "['RBM38', 'chr20', 54966250, 56966500 ] ]\n",
    "\n",
    "avocado_gene_names = [ 'BCL11A',  'HBA2', 'HBE1', 'LMO2', 'MYC', 'RBM38' ]"
   ]
  },
  {
   "cell_type": "code",
   "execution_count": 5,
   "metadata": {},
   "outputs": [],
   "source": [
    "datapath='/data/locusselect/avocado_latent_factors/'"
   ]
  },
  {
   "cell_type": "code",
   "execution_count": 6,
   "metadata": {},
   "outputs": [],
   "source": [
    "avocado_data_list = []; avocado_bed_list = []\n",
    "for locus in lociList :\n",
    "    avocado_data_list.append( parseAvocadoLocus(locus[1],locus[2],locus[3],process='average',process_res=250,datapath=datapath) )\n",
    "    avocado_bed_list.append( generateLocusWindows(locus[1],locus[2],locus[3],250) )"
   ]
  },
  {
   "cell_type": "code",
   "execution_count": 7,
   "metadata": {},
   "outputs": [],
   "source": [
    "distanceMeasure = 'correlation'\n",
    "avocado_embedding_list = performEmbeddings(avocado_data_list,metric=distanceMeasure); "
   ]
  },
  {
   "cell_type": "code",
   "execution_count": 8,
   "metadata": {},
   "outputs": [],
   "source": [
    "import numpy as np\n",
    "gkm_data_list = []; #avocado_bed_list = []\n",
    "for locus in lociList :\n",
    "    data = np.loadtxt(\"/data/locusselect/gkmexplain/gkmexplain.coord.embeddings.{}.txt.gz\".format(locus[0]))\n",
    "    gkm_data_list.append(data)\n",
    "    "
   ]
  },
  {
   "cell_type": "code",
   "execution_count": 9,
   "metadata": {},
   "outputs": [],
   "source": [
    "import pandas as pd\n",
    "groseq = \"/data/locusselect/k562_annotations/hg19.k562.pair.div.bed\"\n",
    "gropeaks = pd.read_csv(\"positive_gropeak.bed\", sep='\\t', header=None)\n",
    "\n"
   ]
  },
  {
   "cell_type": "code",
   "execution_count": 10,
   "metadata": {},
   "outputs": [
    {
     "name": "stdout",
     "output_type": "stream",
     "text": [
      "243 44657\n"
     ]
    }
   ],
   "source": [
    "def get_labels(bed_list):\n",
    "    labels_list = []\n",
    "    count = 0\n",
    "    total = 0\n",
    "    overlap_list = []\n",
    "    for coordlist in bed_list:\n",
    "        labels = []\n",
    "        overlaps = []\n",
    "        for coord in coordlist:\n",
    "            bin0 = (coord[0].decode(\"utf8\"), int(coord[1]), int(coord[2]))\n",
    "            olstart = gropeaks[(gropeaks[0]==bin0[0]) & (bin0[1]>gropeaks[1]) & (bin0[1]<gropeaks[2])] #start is not inside\n",
    "            olend = gropeaks[(gropeaks[0]==bin0[0]) & (bin0[2]>gropeaks[1]) & (bin0[2]<gropeaks[2])] #end in not inside\n",
    "            if(olstart.shape[0]==0 and olend.shape[0]==0):\n",
    "                overlap = 0\n",
    "            elif(olstart.shape[0]==0 and olend.shape[0]!=0):\n",
    "                #print(\"only end is inside\")\n",
    "                overlap = max(bin0[2] - olend.loc[:,1].values)/250.0\n",
    "            elif(olstart.shape[0]!=0 and olend.shape[0]==0):\n",
    "                #print(\"only start is inside\")\n",
    "                overlap = max(olstart.loc[:,2].values - bin0[1]+1)/250.0 \n",
    "            elif(olstart.shape[0]!=0 and olend.shape[0]!=0):\n",
    "                overlap = 1.0\n",
    "            if(overlap>0.1):\n",
    "                label=1\n",
    "                count = count+1\n",
    "            else:\n",
    "                label=0\n",
    "            total = total+1\n",
    "            labels.append(label)\n",
    "            overlaps.append(overlap)\n",
    "        labels_list.append(labels)\n",
    "        overlap_list.append(overlaps)\n",
    "            #bin0 = pybedtools.create_interval_from_list([coord[0].decode(\"utf8\"), int(coord[1]), int(coord[2])])\n",
    "    print(count, total)\n",
    "    return labels_list, overlap_list\n",
    "labels_list, overlap_list = get_labels(avocado_bed_list)"
   ]
  },
  {
   "cell_type": "code",
   "execution_count": 11,
   "metadata": {},
   "outputs": [],
   "source": [
    "def split_data(data_list, labels_list):\n",
    "    train_data_list = []\n",
    "    test_data_list = []\n",
    "    train_labels_list = []\n",
    "    test_labels_list = []\n",
    "    imbalance_in_train = []\n",
    "    imbalance_in_test = []\n",
    "    for i in range(len(data_list)):\n",
    "        #print(i)\n",
    "        data = data_list[i]\n",
    "        labels = np.expand_dims(np.array(labels_list[i]), axis=1)\n",
    "        \n",
    "        train_size = int(data.shape[0]*0.7)\n",
    "        train_data = data[:train_size]\n",
    "        test_data = data[train_size:]\n",
    "        train_data_list.append(train_data)\n",
    "        test_data_list.append(test_data)\n",
    "        \n",
    "        train_labels = labels[:train_size]\n",
    "        test_labels = labels[train_size:]\n",
    "        train_labels_list.append(train_labels)\n",
    "        test_labels_list.append(test_labels)\n",
    "        \n",
    "        npos = np.sum(np.array(train_labels)>0)\n",
    "        nneg = len(train_labels) - npos\n",
    "        imbalance_in_train.append(1.0*npos/(npos+nneg))\n",
    "        \n",
    "        npos = np.sum(np.array(test_labels)>0)\n",
    "        nneg = len(test_labels) - npos\n",
    "        imbalance_in_test.append(1.0*npos/(npos+nneg))\n",
    "\n",
    "    splited_data = {'train': train_data_list, 'test': test_data_list}\n",
    "    splited_labels = {'train': train_labels_list, 'test': test_labels_list}\n",
    "    splited_imbalances = {'train': imbalance_in_train, 'test': imbalance_in_test}\n",
    "    return splited_data, splited_labels, splited_imbalances\n",
    "\n",
    "avocado_splited_list, splited_labels, splited_imbalance = split_data(avocado_data_list, labels_list)\n",
    "gkm_splited_list, gkm_splited_labels, gkm_splited_imbalance = split_data(gkm_data_list, labels_list)"
   ]
  },
  {
   "cell_type": "code",
   "execution_count": 12,
   "metadata": {},
   "outputs": [
    {
     "data": {
      "text/plain": [
       "{'train': [0.00125,\n",
       "  0.023034398034398034,\n",
       "  0.0033928571428571428,\n",
       "  0.008214285714285714,\n",
       "  0.005535714285714285,\n",
       "  0.004642857142857143],\n",
       " 'test': [0.004164931278633903,\n",
       "  0.0028653295128939827,\n",
       "  0.0024989587671803417,\n",
       "  0.003748438150770512,\n",
       "  0.003331945022907122,\n",
       "  0.0008329862557267805]}"
      ]
     },
     "execution_count": 12,
     "metadata": {},
     "output_type": "execute_result"
    }
   ],
   "source": [
    "splited_imbalance"
   ]
  },
  {
   "cell_type": "code",
   "execution_count": 24,
   "metadata": {},
   "outputs": [
    {
     "name": "stdout",
     "output_type": "stream",
     "text": [
      "(13401, 66)\n",
      "(13401, 5121)\n",
      "(31256, 66)\n",
      "(31256, 5121)\n"
     ]
    }
   ],
   "source": [
    "def merge_data_labels(data_list, labels_list):\n",
    "    \n",
    "    total_data = None\n",
    "    \n",
    "    for i in range(len(data_list)):\n",
    "        x = data_list[i]\n",
    "        y = labels_list[i]\n",
    "        \n",
    "        data = np.hstack((y,x))\n",
    "        if(total_data is None):\n",
    "            total_data = data\n",
    "        else:\n",
    "            total_data = np.vstack((total_data, data))\n",
    "\n",
    "    print(total_data.shape)\n",
    "    \n",
    "    return total_data\n",
    "avocado_test_data = merge_data_labels(avocado_splited_list['test'], splited_labels['test'])\n",
    "gkm_test_data = merge_data_labels(gkm_splited_list['test'], splited_labels['test'])\n",
    "avocado_train_data = merge_data_labels(avocado_splited_list['train'], splited_labels['train'])\n",
    "gkm_train_data = merge_data_labels(gkm_splited_list['train'], splited_labels['train'])"
   ]
  },
  {
   "cell_type": "code",
   "execution_count": 33,
   "metadata": {},
   "outputs": [
    {
     "name": "stdout",
     "output_type": "stream",
     "text": [
      "(13401, 5186)\n",
      "(31256, 5186)\n"
     ]
    }
   ],
   "source": [
    "def merge_multiple_datasets(data_dict, labeled=True):\n",
    "    total_data = None\n",
    "    if(labeled==True): #skip appending labels multiple times\n",
    "        start_append_at = 1\n",
    "    else:\n",
    "        start_append_at = 0\n",
    "    for crit, current_data in data_dict.items():\n",
    "        if(total_data is None):\n",
    "            total_data = current_data\n",
    "        else:\n",
    "            total_data = np.hstack((total_data, current_data[:, start_append_at:]))\n",
    "    \n",
    "    print(total_data.shape)\n",
    "    return total_data\n",
    "\n",
    "avocado_gkm_test_data = merge_multiple_datasets({'avocado': avocado_test_data, 'gkm': gkm_test_data})\n",
    "avocado_gkm_train_data = merge_multiple_datasets({'avocado': avocado_train_data, 'gkm': gkm_train_data})"
   ]
  },
  {
   "cell_type": "code",
   "execution_count": 15,
   "metadata": {},
   "outputs": [
    {
     "data": {
      "text/plain": [
       "((13401, 66), (13401, 5121))"
      ]
     },
     "execution_count": 15,
     "metadata": {},
     "output_type": "execute_result"
    }
   ],
   "source": [
    "avocado_test_data.shape, gkm_test_data.shape"
   ]
  },
  {
   "cell_type": "code",
   "execution_count": 35,
   "metadata": {},
   "outputs": [],
   "source": [
    "import matplotlib.pyplot as plt\n",
    "from sklearn.linear_model import LogisticRegression\n",
    "from sklearn.metrics import average_precision_score\n",
    "from sklearn.metrics import precision_recall_curve, auc\n",
    "def make_prediction(train_data, test_data, header=\"\"):\n",
    "    \n",
    "    model = LogisticRegression(random_state=0, solver='lbfgs', multi_class='multinomial')#.fit(X, y)\n",
    "    model.fit(train_data[:, 1:], train_data[:, 0]) #1st column is label\n",
    "    predicted_classes = model.predict(test_data[:, 1:]) #1st column is label\n",
    "    \n",
    "    average_precision = average_precision_score(test_data[:, 0], predicted_classes)\n",
    "    precision, recall, _ = precision_recall_curve(test_data[:, 0], predicted_classes)\n",
    "    area = auc(recall, precision)\n",
    "    plt.step(recall, precision, color='b', alpha=0.2,\n",
    "             where='post')\n",
    "    # step_kwargs = ({'step': 'post'}\n",
    "    #                if 'step' in signature(plt.fill_between).parameters\n",
    "    #                else {})\n",
    "    plt.fill_between(recall, precision, alpha=0.2, color='b')\n",
    "\n",
    "    plt.xlabel('Recall')\n",
    "    plt.ylabel('Precision')\n",
    "    plt.ylim([0.0, 1.05])\n",
    "    plt.xlim([0.0, 1.0])\n",
    "    plt.title('{0}\\nArea Under Precision-Recall curve: {1}'.format(header, round(area, 2)))\n",
    "    return area"
   ]
  },
  {
   "cell_type": "code",
   "execution_count": 36,
   "metadata": {},
   "outputs": [
    {
     "data": {
      "text/plain": [
       "0.3153711261501725"
      ]
     },
     "execution_count": 36,
     "metadata": {},
     "output_type": "execute_result"
    },
    {
     "data": {
      "image/png": "[encoded data removed]",
      "text/plain": [
       "<Figure size 432x288 with 1 Axes>"
      ]
     },
     "metadata": {
      "needs_background": "light"
     },
     "output_type": "display_data"
    }
   ],
   "source": [
    "make_prediction(avocado_train_data, avocado_test_data, \"avocado\")"
   ]
  },
  {
   "cell_type": "code",
   "execution_count": 38,
   "metadata": {},
   "outputs": [
    {
     "data": {
      "text/plain": [
       "0.36035485296734454"
      ]
     },
     "execution_count": 38,
     "metadata": {},
     "output_type": "execute_result"
    },
    {
     "data": {
      "image/png": "[encoded data removed]",
      "text/plain": [
       "<Figure size 432x288 with 1 Axes>"
      ]
     },
     "metadata": {
      "needs_background": "light"
     },
     "output_type": "display_data"
    }
   ],
   "source": [
    "make_prediction(gkm_train_data, gkm_test_data, \"gkm_embeddings\")"
   ]
  },
  {
   "cell_type": "code",
   "execution_count": 39,
   "metadata": {},
   "outputs": [
    {
     "data": {
      "text/plain": [
       "0.5459538036771079"
      ]
     },
     "execution_count": 39,
     "metadata": {},
     "output_type": "execute_result"
    },
    {
     "data": {
      "image/png": "[encoded data removed]",
      "text/plain": [
       "<Figure size 432x288 with 1 Axes>"
      ]
     },
     "metadata": {
      "needs_background": "light"
     },
     "output_type": "display_data"
    }
   ],
   "source": [
    "make_prediction(avocado_gkm_train_data, avocado_gkm_test_data, \"avocado+gkm_embeddings\")"
   ]
  },
  {
   "cell_type": "code",
   "execution_count": null,
   "metadata": {},
   "outputs": [],
   "source": []
  }
 ],
 "metadata": {
  "kernelspec": {
   "display_name": "Python 3",
   "language": "python",
   "name": "python3"
  },
  "language_info": {
   "codemirror_mode": {
    "name": "ipython",
    "version": 3
   },
   "file_extension": ".py",
   "mimetype": "text/x-python",
   "name": "python",
   "nbconvert_exporter": "python",
   "pygments_lexer": "ipython3",
   "version": "3.7.3"
  }
 },
 "nbformat": 4,
 "nbformat_minor": 2
}
