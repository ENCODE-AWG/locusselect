{
 "cells": [
  {
   "cell_type": "code",
   "execution_count": 5,
   "metadata": {},
   "outputs": [],
   "source": [
    "#load dragonn tutorial utilities \n",
    "%reload_ext autoreload\n",
    "%autoreload 2\n",
    "%matplotlib inline\n",
    "import warnings\n",
    "warnings.filterwarnings('ignore')\n",
    "from numpy.random import seed\n",
    "seed(1234)"
   ]
  },
  {
   "cell_type": "markdown",
   "metadata": {},
   "source": [
    "## Regression K562 DNAse model (trained genomewide), fully connected layer embeddings "
   ]
  },
  {
   "cell_type": "code",
   "execution_count": 10,
   "metadata": {},
   "outputs": [],
   "source": [
    "## generate embeddings at the -2 layer \n",
    "import locusselect \n",
    "from locusselect.embeddings import * \n",
    "from locusselect.deeplift import * \n",
    "from locusselect.utils import * "
   ]
  },
  {
   "cell_type": "code",
   "execution_count": 9,
   "metadata": {},
   "outputs": [
    {
     "name": "stdout",
     "output_type": "stream",
     "text": [
      "got model architecture\n",
      "loaded model weights\n",
      "loaded model\n",
      "obtained embedding layer model\n",
      "created data generator\n",
      "210/210 [==============================] - 29s 140ms/step\n",
      "got embeddings\n",
      "got region labels\n"
     ]
    }
   ],
   "source": [
    "#first, we get embeddings from the model fully connected layer \n",
    "fc_embedding_args={\"input_bed_file\":\"/srv/scratch/annashch/deeplearning/encode4crispr/k562_dnase/optimal_peak.narrowPeak.gz\",\n",
    "                   \"model_hdf5\":\"/srv/scratch/annashch/deeplearning/encode4crispr/k562_dnase/regression/DNASE.K562.regressionlabels.allbins.0\",\n",
    "                   \"ref_fasta\":\"/mnt/data/annotations/by_release/hg38/GRCh38_no_alt_analysis_set_GCA_000001405.15.fasta\",\n",
    "                   \"center_on_summit\":True,\n",
    "                   \"flank\":500,\n",
    "                   \"embedding_layer\":-2,\n",
    "                   \"expand_dims\":True,\n",
    "                   \"threads\":20}\n",
    "\n",
    "fc_regions, fc_embeddings = compute_embeddings(fc_embedding_args)\n",
    "## alternatively, get the pre-generated embeddings \n",
    "#fc_regions,fc_embeddings,data_type=load_embedding(\"k562_dnase_regression_embeddings.0.-2.npz\")"
   ]
  },
  {
   "cell_type": "code",
   "execution_count": null,
   "metadata": {},
   "outputs": [
    {
     "name": "stdout",
     "output_type": "stream",
     "text": [
      "created data generator\n",
      "420\n",
      "0\n",
      "done with batch\n",
      "1\n",
      "done with batch\n",
      "2\n",
      "done with batch\n",
      "3\n",
      "done with batch\n",
      "4\n",
      "done with batch\n",
      "5\n",
      "done with batch\n",
      "6\n",
      "done with batch\n",
      "7\n",
      "done with batch\n",
      "8\n",
      "done with batch\n",
      "9\n",
      "done with batch\n",
      "10\n",
      "done with batch\n",
      "11\n",
      "done with batch\n",
      "12\n",
      "done with batch\n",
      "13\n",
      "done with batch\n",
      "14\n",
      "done with batch\n",
      "15\n",
      "done with batch\n",
      "16\n",
      "done with batch\n",
      "17\n",
      "done with batch\n",
      "18\n",
      "done with batch\n",
      "19\n",
      "done with batch\n",
      "20\n",
      "done with batch\n",
      "21\n",
      "done with batch\n",
      "22\n",
      "done with batch\n",
      "23\n",
      "done with batch\n",
      "24\n",
      "done with batch\n",
      "25\n",
      "done with batch\n",
      "26\n",
      "done with batch\n",
      "27\n",
      "done with batch\n",
      "28\n",
      "done with batch\n",
      "29\n",
      "done with batch\n",
      "30\n",
      "done with batch\n",
      "31\n",
      "done with batch\n",
      "32\n",
      "done with batch\n",
      "33\n",
      "done with batch\n",
      "34\n",
      "done with batch\n",
      "35\n",
      "done with batch\n",
      "36\n",
      "done with batch\n",
      "37\n",
      "done with batch\n",
      "38\n",
      "done with batch\n",
      "39\n",
      "done with batch\n",
      "40\n",
      "done with batch\n",
      "41\n",
      "done with batch\n",
      "42\n",
      "done with batch\n",
      "43\n",
      "done with batch\n",
      "44\n",
      "done with batch\n",
      "45\n",
      "done with batch\n",
      "46\n",
      "done with batch\n",
      "47\n",
      "done with batch\n",
      "48\n",
      "done with batch\n",
      "49\n",
      "done with batch\n",
      "50\n"
     ]
    }
   ],
   "source": [
    "#next, we get deepLIFT scores as embeddings \n",
    "deeplift_args={\"input_bed_file\":\"/srv/scratch/annashch/deeplearning/encode4crispr/k562_dnase/optimal_peak.narrowPeak.gz\",\n",
    "                \"model_hdf5\":\"/srv/scratch/annashch/deeplearning/encode4crispr/k562_dnase/regression/DNASE.K562.regressionlabels.allbins.0\",\n",
    "                \"ref_fasta\":\"/mnt/data/annotations/by_release/hg38/GRCh38_no_alt_analysis_set_GCA_000001405.15.fasta\",\n",
    "                \"center_on_summit\":True,\n",
    "                \"flank\":500,\n",
    "                \"embedding_layer\":-2,\n",
    "                \"expand_dims\":True,\n",
    "                \"threads\":20,\n",
    "                \"task_index\":0,\n",
    "                \"batch_size\":500,\n",
    "                \"deeplift_num_refs_per_seq\":1,\n",
    "                \"deeplift_reference\":\"shuffled_ref\",\n",
    "                \"deeplift_layer\":-1}\n",
    "deeplift_regions, deeplift_embeddings=compute_deeplift_scores(deeplift_args)\n",
    "\n",
    "## alternatively, get the pre-generated embeddings \n",
    "#deeplift_regions,deeplift_embeddings,data_type=load_embedding(\"k562_dnase_regression_0.deeplift.npz\")"
   ]
  },
  {
   "cell_type": "code",
   "execution_count": null,
   "metadata": {},
   "outputs": [],
   "source": [
    "print(fc_regions.shape)\n",
    "print(deeplift_regions.shape) \n",
    "print(fc_embeddings.shape)\n",
    "print(deeplift_embeddings.shape)"
   ]
  },
  {
   "cell_type": "code",
   "execution_count": null,
   "metadata": {},
   "outputs": [],
   "source": [
    "from sklearn.decomposition import PCA\n",
    "import numpy as np\n",
    "import matplotlib.pyplot as plt\n",
    "import seaborn as sns\n",
    "%matplotlib inline\n",
    "\n",
    "# Dimension reduction and clustering libraries\n",
    "import umap\n",
    "import hdbscan\n",
    "import sklearn.cluster as cluster\n",
    "from sklearn.metrics import adjusted_rand_score, adjusted_mutual_info_score"
   ]
  },
  {
   "cell_type": "markdown",
   "metadata": {},
   "source": [
    "## UMAP clustering on fc layer embeddings "
   ]
  },
  {
   "cell_type": "code",
   "execution_count": null,
   "metadata": {},
   "outputs": [],
   "source": [
    "#we will randomly select 50000 peaks for clustering/visualizing (more than that takes a long time)\n",
    "n=50000 \n",
    "indices_for_clustering=np.random.choice(fc_embeddings.shape[0],n) "
   ]
  },
  {
   "cell_type": "code",
   "execution_count": null,
   "metadata": {},
   "outputs": [],
   "source": [
    "standard_embedding = umap.UMAP(random_state=42).fit_transform(fc_embeddings[indices_for_clustering])\n"
   ]
  },
  {
   "cell_type": "code",
   "execution_count": null,
   "metadata": {},
   "outputs": [],
   "source": [
    "plt.scatter(standard_embedding[:, 0], standard_embedding[:, 1], s=0.1, cmap='Spectral');\n"
   ]
  },
  {
   "cell_type": "code",
   "execution_count": null,
   "metadata": {},
   "outputs": [],
   "source": [
    "clusterable_embedding = umap.UMAP(\n",
    "    n_neighbors=30,\n",
    "    min_dist=0.0,\n",
    "    n_components=2,\n",
    "    random_state=42,\n",
    ").fit_transform(fc_embeddings[indices_for_clustering])"
   ]
  },
  {
   "cell_type": "code",
   "execution_count": null,
   "metadata": {},
   "outputs": [],
   "source": [
    "plt.scatter(clusterable_embedding[:, 0], clusterable_embedding[:, 1], s=0.1, cmap='Spectral');"
   ]
  },
  {
   "cell_type": "code",
   "execution_count": null,
   "metadata": {},
   "outputs": [],
   "source": [
    "labels = hdbscan.HDBSCAN(\n",
    "    min_samples=10,\n",
    "    min_cluster_size=500,\n",
    ").fit_predict(clusterable_embedding)"
   ]
  },
  {
   "cell_type": "code",
   "execution_count": null,
   "metadata": {},
   "outputs": [],
   "source": [
    "#-1 means the \n",
    "clustered = (labels >= 0)\n",
    "plt.scatter(standard_embedding[~clustered, 0],\n",
    "            standard_embedding[~clustered, 1],\n",
    "            c=(0.5, 0.5, 0.5),\n",
    "            s=0.1,\n",
    "            alpha=0.5)\n",
    "plt.scatter(standard_embedding[clustered, 0],\n",
    "            standard_embedding[clustered, 1],\n",
    "            c=labels[clustered],\n",
    "            s=0.1,\n",
    "            cmap='Spectral');"
   ]
  },
  {
   "cell_type": "code",
   "execution_count": null,
   "metadata": {},
   "outputs": [],
   "source": [
    "clustered_regions=fc_regions[indices_for_clustering]\n",
    "df=pd.DataFrame({'chrom':[i[0] for i in clustered_regions],\n",
    "                'start':[i[1] for i in clustered_regions],\n",
    "                'end':[i[2]for i in clustered_regions],\n",
    "                'labels':labels})\n",
    "#write to output bed file for analysis of motif enrichment in clusters \n",
    "df.to_csv(\"regression_fc_layer_embeddings_clusters.bed\")"
   ]
  },
  {
   "cell_type": "markdown",
   "metadata": {},
   "source": [
    "## UMAP clustering on deepLIFT scores"
   ]
  },
  {
   "cell_type": "code",
   "execution_count": null,
   "metadata": {},
   "outputs": [],
   "source": [
    "standard_embedding = umap.UMAP(random_state=42).fit_transform(deeplift_embeddings[indices_for_clustering])\n"
   ]
  },
  {
   "cell_type": "code",
   "execution_count": null,
   "metadata": {},
   "outputs": [],
   "source": [
    "plt.scatter(standard_embedding[:, 0], standard_embedding[:, 1], s=0.1, cmap='Spectral');\n"
   ]
  },
  {
   "cell_type": "code",
   "execution_count": null,
   "metadata": {},
   "outputs": [],
   "source": [
    "clusterable_embedding = umap.UMAP(\n",
    "    n_neighbors=30,\n",
    "    min_dist=0.0,\n",
    "    n_components=2,\n",
    "    random_state=42,\n",
    ").fit_transform(deeplift_embeddings[indices_for_clustering])"
   ]
  },
  {
   "cell_type": "code",
   "execution_count": null,
   "metadata": {},
   "outputs": [],
   "source": [
    "plt.scatter(clusterable_embedding[:, 0], clusterable_embedding[:, 1], s=0.1, cmap='Spectral');"
   ]
  },
  {
   "cell_type": "code",
   "execution_count": null,
   "metadata": {},
   "outputs": [],
   "source": [
    "labels = hdbscan.HDBSCAN(\n",
    "    min_samples=10,\n",
    "    min_cluster_size=500,\n",
    ").fit_predict(clusterable_embedding)"
   ]
  },
  {
   "cell_type": "code",
   "execution_count": null,
   "metadata": {},
   "outputs": [],
   "source": [
    "#-1 means the \n",
    "clustered = (labels >= 0)\n",
    "plt.scatter(standard_embedding[~clustered, 0],\n",
    "            standard_embedding[~clustered, 1],\n",
    "            c=(0.5, 0.5, 0.5),\n",
    "            s=0.1,\n",
    "            alpha=0.5)\n",
    "plt.scatter(standard_embedding[clustered, 0],\n",
    "            standard_embedding[clustered, 1],\n",
    "            c=labels[clustered],\n",
    "            s=0.1,\n",
    "            cmap='Spectral');"
   ]
  },
  {
   "cell_type": "code",
   "execution_count": null,
   "metadata": {},
   "outputs": [],
   "source": [
    "clustered_regions=deeplift_regions[indices_for_clustering]\n",
    "df=pd.DataFrame({'chrom':[i[0] for i in clustered_regions],\n",
    "                'start':[i[1] for i in clustered_regions],\n",
    "                'end':[i[2]for i in clustered_regions],\n",
    "                'labels':labels})\n",
    "#write to output bed file for analysis of motif enrichment in clusters \n",
    "df.to_csv(\"regression_deeplift_embeddings_clusters.bed\")"
   ]
  }
 ],
 "metadata": {
  "kernelspec": {
   "display_name": "Python 3",
   "language": "python",
   "name": "python3"
  },
  "language_info": {
   "codemirror_mode": {
    "name": "ipython",
    "version": 3
   },
   "file_extension": ".py",
   "mimetype": "text/x-python",
   "name": "python",
   "nbconvert_exporter": "python",
   "pygments_lexer": "ipython3",
   "version": "3.6.7"
  }
 },
 "nbformat": 4,
 "nbformat_minor": 2
}
